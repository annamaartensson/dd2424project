{
  "cells": [
    {
      "cell_type": "markdown",
      "metadata": {
        "id": "view-in-github",
        "colab_type": "text"
      },
      "source": [
        "<a href=\"https://colab.research.google.com/github/annamaartensson/dd2424project/blob/issue%2F18/models.ipynb\" target=\"_parent\"><img src=\"https://colab.research.google.com/assets/colab-badge.svg\" alt=\"Open In Colab\"/></a>"
      ]
    },
    {
      "cell_type": "code",
      "execution_count": 3,
      "metadata": {
        "id": "7fD8wIJNDciU",
        "colab": {
          "base_uri": "https://localhost:8080/"
        },
        "outputId": "89e3e12d-1619-4416-f31f-5fe561421582"
      },
      "outputs": [
        {
          "output_type": "stream",
          "name": "stdout",
          "text": [
            "\u001b[2K     \u001b[90m━━━━━━━━━━━━━━━━━━━━━━━━━━━━━━━━━━━━━━━━\u001b[0m \u001b[32m6.7/6.7 MB\u001b[0m \u001b[31m21.4 MB/s\u001b[0m eta \u001b[36m0:00:00\u001b[0m\n",
            "\u001b[2K     \u001b[90m━━━━━━━━━━━━━━━━━━━━━━━━━━━━━━━━━━━━━━━━\u001b[0m \u001b[32m207.3/207.3 kB\u001b[0m \u001b[31m22.0 MB/s\u001b[0m eta \u001b[36m0:00:00\u001b[0m\n",
            "\u001b[2K     \u001b[90m━━━━━━━━━━━━━━━━━━━━━━━━━━━━━━━━━━━━━━━━\u001b[0m \u001b[32m281.1/281.1 kB\u001b[0m \u001b[31m18.8 MB/s\u001b[0m eta \u001b[36m0:00:00\u001b[0m\n",
            "\u001b[2K     \u001b[90m━━━━━━━━━━━━━━━━━━━━━━━━━━━━━━━━━━━━━━━━\u001b[0m \u001b[32m62.7/62.7 kB\u001b[0m \u001b[31m7.6 MB/s\u001b[0m eta \u001b[36m0:00:00\u001b[0m\n",
            "\u001b[?25h"
          ]
        }
      ],
      "source": [
        "!pip install -qq -U wandb"
      ]
    },
    {
      "cell_type": "code",
      "execution_count": 4,
      "metadata": {
        "id": "F39H_ZUFDciW",
        "colab": {
          "base_uri": "https://localhost:8080/",
          "height": 126
        },
        "outputId": "74ba513a-7167-4ef9-f8c8-a69dfe09255e"
      },
      "outputs": [
        {
          "output_type": "display_data",
          "data": {
            "text/plain": [
              "<IPython.core.display.Javascript object>"
            ],
            "application/javascript": [
              "\n",
              "        window._wandbApiKey = new Promise((resolve, reject) => {\n",
              "            function loadScript(url) {\n",
              "            return new Promise(function(resolve, reject) {\n",
              "                let newScript = document.createElement(\"script\");\n",
              "                newScript.onerror = reject;\n",
              "                newScript.onload = resolve;\n",
              "                document.body.appendChild(newScript);\n",
              "                newScript.src = url;\n",
              "            });\n",
              "            }\n",
              "            loadScript(\"https://cdn.jsdelivr.net/npm/postmate/build/postmate.min.js\").then(() => {\n",
              "            const iframe = document.createElement('iframe')\n",
              "            iframe.style.cssText = \"width:0;height:0;border:none\"\n",
              "            document.body.appendChild(iframe)\n",
              "            const handshake = new Postmate({\n",
              "                container: iframe,\n",
              "                url: 'https://wandb.ai/authorize'\n",
              "            });\n",
              "            const timeout = setTimeout(() => reject(\"Couldn't auto authenticate\"), 5000)\n",
              "            handshake.then(function(child) {\n",
              "                child.on('authorize', data => {\n",
              "                    clearTimeout(timeout)\n",
              "                    resolve(data)\n",
              "                });\n",
              "            });\n",
              "            })\n",
              "        });\n",
              "    "
            ]
          },
          "metadata": {}
        },
        {
          "output_type": "stream",
          "name": "stderr",
          "text": [
            "\u001b[34m\u001b[1mwandb\u001b[0m: Logging into wandb.ai. (Learn how to deploy a W&B server locally: https://wandb.me/wandb-server)\n",
            "\u001b[34m\u001b[1mwandb\u001b[0m: You can find your API key in your browser here: https://wandb.ai/authorize\n",
            "wandb: Paste an API key from your profile and hit enter, or press ctrl+c to quit:"
          ]
        },
        {
          "name": "stdout",
          "output_type": "stream",
          "text": [
            " ··········\n"
          ]
        },
        {
          "output_type": "stream",
          "name": "stderr",
          "text": [
            "\u001b[34m\u001b[1mwandb\u001b[0m: Appending key for api.wandb.ai to your netrc file: /root/.netrc\n"
          ]
        },
        {
          "output_type": "execute_result",
          "data": {
            "text/plain": [
              "True"
            ]
          },
          "metadata": {},
          "execution_count": 4
        }
      ],
      "source": [
        "import wandb\n",
        "wandb.login()"
      ]
    },
    {
      "cell_type": "code",
      "execution_count": 5,
      "metadata": {
        "id": "sGcepYKOSArx"
      },
      "outputs": [],
      "source": [
        "import tensorflow as tf\n",
        "import numpy as np\n",
        "import pathlib\n",
        "import os\n",
        "import platform\n",
        "import re"
      ]
    },
    {
      "cell_type": "markdown",
      "metadata": {
        "id": "JCi4Npp_DciX"
      },
      "source": [
        "Fetch and process data"
      ]
    },
    {
      "cell_type": "code",
      "execution_count": 6,
      "metadata": {
        "id": "u2PJaZCT3vx0"
      },
      "outputs": [],
      "source": [
        "def fetch_data():\n",
        "  cache_dir = \"./tmp\"\n",
        "  dataset_file_name = \"pg31100.txt\"\n",
        "  dataset_file_origin = \"https://www.gutenberg.org/cache/epub/31100/pg31100.txt\"\n",
        "  dataset_file_path = tf.keras.utils.get_file(fname = dataset_file_name, origin = dataset_file_origin, cache_dir=pathlib.Path(cache_dir).absolute())\n",
        "  text = open(dataset_file_path, mode = \"r\").read()\n",
        "  persuasion = text[1437:468297]\n",
        "  northanger_abbey = text[468297:901707]\n",
        "  mansfield_park = text[901707:1784972]\n",
        "  emma = text[1784972:2668012]\n",
        "  lady_susan = text[2668012:2795312]\n",
        "  love_and_friendship = text[2795312:2980261]\n",
        "  pride_and_predjudice = text[2980261:3665048]\n",
        "  sense_and_sensibility = text[3682008:4355100]\n",
        "  full_text = text[1437:4355100]\n",
        "  books = [persuasion, northanger_abbey, mansfield_park, emma, lady_susan, love_and_friendship, pride_and_predjudice, sense_and_sensibility]\n",
        "  return books"
      ]
    },
    {
      "cell_type": "markdown",
      "metadata": {
        "id": "CcGWPpCFDciY"
      },
      "source": [
        "Text to tensor encoders"
      ]
    },
    {
      "cell_type": "code",
      "execution_count": 7,
      "metadata": {
        "id": "4j2E-p4BOOEF"
      },
      "outputs": [],
      "source": [
        "class BasicEncoder:\n",
        "\n",
        "  def __init__(self, text):\n",
        "    self.vocabulary = sorted(set(text))\n",
        "    self.ind_to_token = list(self.vocabulary)\n",
        "    self.ind_to_token.insert(0, \"[UNK]\")\n",
        "    self.token_to_ind = {self.ind_to_token[i] : i for i in range(len(self.ind_to_token))}\n",
        "\n",
        "  def get_size(self):\n",
        "    return len(self.ind_to_token)\n",
        "\n",
        "  def text_to_inds(self, text):\n",
        "    inds = []\n",
        "    for c in text:\n",
        "      if c in self.token_to_ind:\n",
        "        inds.append(self.token_to_ind[c])\n",
        "      else:\n",
        "        inds.append(self.token_to_ind[\"[UNK]\"])\n",
        "    return inds\n",
        "\n",
        "class BytePairEncoder(BasicEncoder):\n",
        "\n",
        "  def __init__(self, text, target_size):\n",
        "    super().__init__(text)\n",
        "    self.__expand_vocabulary(text, target_size)\n",
        "\n",
        "  def __merge_pairs(self, tokens, pair, val):\n",
        "    merged_tokens = []\n",
        "    i = 0\n",
        "    while i < len(tokens):\n",
        "      if tokens[i] == pair[0] and i < len(tokens)-1 and tokens[i+1] == pair[1]:\n",
        "        merged_tokens.append(val)\n",
        "        i += 2\n",
        "      else:\n",
        "        merged_tokens.append(tokens[i])\n",
        "        i += 1\n",
        "    return merged_tokens\n",
        "\n",
        "  def __get_pair_counts(self, tokens):\n",
        "    counts = {}\n",
        "    for i in range(len(tokens)-1):\n",
        "      pair = tokens[i], tokens[i+1]\n",
        "      if pair not in counts:\n",
        "        counts[pair] = 1\n",
        "      else:\n",
        "        counts[pair] += 1\n",
        "    return counts\n",
        "\n",
        "  def __expand_vocabulary(self, text, target_size):\n",
        "    self.merges = {}\n",
        "    tokens = [self.token_to_ind[c] for c in text]\n",
        "    while self.get_size() < target_size:\n",
        "      counts = self.__get_pair_counts(tokens)\n",
        "      best_pair = max(counts, key = counts.get)\n",
        "      new_token = self.ind_to_token[best_pair[0]]+self.ind_to_token[best_pair[1]]\n",
        "      new_val = len(self.ind_to_token)\n",
        "      self.ind_to_token.append(new_token)\n",
        "      self.token_to_ind[new_token] = new_val\n",
        "      self.merges[best_pair] = new_val\n",
        "      tokens = self.__merge_pairs(tokens, best_pair, new_val)\n",
        "\n",
        "  def text_to_inds(self,text):\n",
        "    inds = super().text_to_inds(text)\n",
        "    found_merge = True\n",
        "    while found_merge:\n",
        "      merged_inds = []\n",
        "      found_merge = False\n",
        "      i = 0\n",
        "      while i < len(inds):\n",
        "        if i < len(inds)-1 and (inds[i], inds[i+1]) in self.merges:\n",
        "          merged_inds.append(self.merges[(inds[i], inds[i+1])])\n",
        "          found_merge = True\n",
        "          i += 2\n",
        "        else:\n",
        "          merged_inds.append(inds[i])\n",
        "          i += 1\n",
        "      inds = merged_inds\n",
        "    return inds\n",
        "\n",
        "class WordEncoder(BasicEncoder):\n",
        "\n",
        "  def __init__(self, text):\n",
        "    super().__init__(self.split_text(text))\n",
        "\n",
        "  def text_to_inds(self, text):\n",
        "    text = self.split_text(text)\n",
        "    inds = []\n",
        "    for c in text:\n",
        "      if c in self.token_to_ind:\n",
        "        inds.append(self.token_to_ind[c])\n",
        "      else:\n",
        "        inds.append(self.token_to_ind[\"[UNK]\"])\n",
        "    return inds\n",
        "\n",
        "  def split_text(self, text):\n",
        "    no_spec = re.split(\"(\\&|\\[|\\]|\\n|-| |\\_|!|\\?|\\*|\\.|,|\\(|\\)|;|:|[0-9]+|\\\"|\\')\", text)\n",
        "    return list(filter(lambda a: a != \"\", no_spec))"
      ]
    },
    {
      "cell_type": "markdown",
      "metadata": {
        "id": "22XTx90-DciZ"
      },
      "source": [
        "Word2Vec Embedding"
      ]
    },
    {
      "cell_type": "code",
      "execution_count": 8,
      "metadata": {
        "id": "GS-txsIIVe2c"
      },
      "outputs": [],
      "source": [
        "class Word2Vec(tf.keras.Model):\n",
        "  def __init__(self, K, embedding_dim):\n",
        "    super().__init__()\n",
        "    self.target_embedding = tf.keras.layers.Embedding(K, embedding_dim, name = \"target\")\n",
        "    self.context_embedding = tf.keras.layers.Embedding(K, embedding_dim)\n",
        "\n",
        "  def call(self, pair):\n",
        "    target, context = pair\n",
        "    word_embedding = self.target_embedding(pair[0])\n",
        "    context_embedding = self.context_embedding(pair[1])\n",
        "    return tf.einsum(\"be,bce->bc\", word_embedding, context_embedding)\n",
        "\n",
        "def batch_data_w2v(text, seq_length, encoder, window_size, n_neg_samples, batch_size, buffer_size):\n",
        "  inds = encoder.text_to_inds(text)\n",
        "  sequences = [inds[i:i+seq_length] for i in range(int(len(inds)/seq_length-seq_length))]\n",
        "  targets, contexts, labels = [], [], []\n",
        "  sampling_table = tf.keras.preprocessing.sequence.make_sampling_table(encoder.get_size())\n",
        "  for seq in sequences:\n",
        "    pos_skip_grams, _ = tf.keras.preprocessing.sequence.skipgrams(seq, vocabulary_size = encoder.get_size(), sampling_table = sampling_table, window_size = window_size, negative_samples = 0)\n",
        "    for target, context in pos_skip_grams:\n",
        "      true_context = tf.expand_dims(tf.constant([context], dtype = \"int64\"), 1)\n",
        "      neg_samples, _, _ = tf.random.log_uniform_candidate_sampler(true_classes = true_context, num_true = 1, num_sampled = n_neg_samples, unique = True, range_max = encoder.get_size())\n",
        "      context = tf.concat([tf.squeeze(true_context, 1), neg_samples], 0)\n",
        "      label = tf.constant([1] + [0]*n_neg_samples, dtype = \"int64\")\n",
        "      targets.append(target)\n",
        "      contexts.append(context)\n",
        "      labels.append(label)\n",
        "  examples = tf.data.Dataset.from_tensor_slices(((np.array(targets), np.array(contexts)), np.array(labels)))\n",
        "  batches = examples.shuffle(buffer_size).batch(batch_size, drop_remainder = True).prefetch(tf.data.AUTOTUNE)\n",
        "  return batches\n",
        "\n",
        "def get_w2v_weights(text, seq_length, encoder, embedding_dim, window_size, n_neg_samples, batch_size, buffer_size):\n",
        "  training_data = batch_data_w2v(text, seq_length, encoder, window_size, n_neg_samples, batch_size, buffer_size)\n",
        "  word2vec = Word2Vec(encoder.get_size(), embedding_dim)\n",
        "  word2vec.compile(optimizer = \"adam\", loss = tf.keras.losses.CategoricalCrossentropy(from_logits = True), metrics=[\"accuracy\"])\n",
        "  tensorboard_callback = tf.keras.callbacks.TensorBoard(log_dir = \"logs\")\n",
        "  word2vec.fit(training_data, epochs = 20, callbacks = [tensorboard_callback]) #tensorboard\n",
        "  weights = word2vec.get_layer(\"target\").get_weights()[0]\n",
        "  return weights"
      ]
    },
    {
      "cell_type": "markdown",
      "metadata": {
        "id": "c-VoYe2SDcia"
      },
      "source": [
        "Generate batches from text data"
      ]
    },
    {
      "cell_type": "code",
      "execution_count": 9,
      "metadata": {
        "id": "9SvmYFn09g5D"
      },
      "outputs": [],
      "source": [
        "def batch_data(text, encoder, embedder, seq_length = 0, batch_size = 1, buffer_size = 0):\n",
        "  dataset = tf.data.Dataset.from_tensor_slices(encoder.text_to_inds(text))\n",
        "  if seq_length == 0:\n",
        "    seq_length = dataset.cardinality()-1\n",
        "  sequences = dataset.batch(seq_length+1, drop_remainder = True).map(lambda s : (s[:seq_length], s[1:]))\n",
        "  sequences = sequences.map(lambda x, y: (embedder(x), y))\n",
        "  if buffer_size > 0:\n",
        "    sequences = sequences.shuffle(buffer_size)\n",
        "  batches = sequences.batch(batch_size, drop_remainder = True).prefetch(tf.data.experimental.AUTOTUNE)\n",
        "  return batches"
      ]
    },
    {
      "cell_type": "markdown",
      "metadata": {
        "id": "Z6YDelUqDcib"
      },
      "source": [
        "Models"
      ]
    },
    {
      "cell_type": "code",
      "execution_count": 27,
      "metadata": {
        "id": "BW1AW2EEDcib"
      },
      "outputs": [],
      "source": [
        "class Model:\n",
        "  def __init__(self, encoder, embedder):\n",
        "    self.encoder = encoder\n",
        "    self.embedder = embedder\n",
        "    self.WANB = True\n",
        "\n",
        "  @tf.function\n",
        "  def loss(self, X, Y, seq_length = 1):\n",
        "    states = self.initial_states\n",
        "    L = 0.0\n",
        "    for t in range(seq_length):\n",
        "      logits, states = self(X[t,:], states)\n",
        "      logits = tf.math.log(tf.nn.softmax(logits))\n",
        "      L -= logits[Y[t]]\n",
        "    return L\n",
        "\n",
        "  def fit(self, batches, val_batches, spelling_dictionary, epochs, learning_rate):\n",
        "    steps_per_epoch = batches.cardinality().numpy()\n",
        "    self.optimizer = tf.keras.optimizers.Adagrad(learning_rate = learning_rate, epsilon = 1e-8, clipvalue = 5)\n",
        "    smooth_loss = None\n",
        "    step = 0\n",
        "    for batch in batches.repeat(epochs):\n",
        "      X_batch, Y_batch = batch\n",
        "      grads_batch = []\n",
        "      n_batch = tf.shape(X_batch)[0].numpy()\n",
        "      seq_length = tf.shape(X_batch)[1].numpy()\n",
        "      for X, Y in zip(X_batch, Y_batch):\n",
        "        if smooth_loss == None:\n",
        "          smooth_loss = self.loss(X, Y, seq_length)\n",
        "        else:\n",
        "          smooth_loss = 0.999*smooth_loss + 0.001*self.loss(X, Y, seq_length)\n",
        "        with tf.GradientTape() as tape:\n",
        "          tape.watch(self.variables)\n",
        "          loss = self.loss(X, Y, seq_length)\n",
        "        grads = tape.gradient(loss, self.variables)\n",
        "        if grads_batch == []:\n",
        "          grads_batch = [g / n_batch for g in grads]\n",
        "        else:\n",
        "          for i in range(len(grads)):\n",
        "            grads_batch[i] = grads_batch[i] + grads[i]/n_batch\n",
        "      self.optimizer.apply_gradients(zip(grads_batch, self.variables))\n",
        "      if (step % steps_per_epoch == 0):\n",
        "        print(\"\\nEPOCH\", step // steps_per_epoch)\n",
        "        print(\"Smooth Loss:\", smooth_loss.numpy())\n",
        "        val_loss = 0\n",
        "        val_count = 0\n",
        "        for val_batch in val_batches:\n",
        "          X_val_batch, Y_val_batch = batch\n",
        "          seq_length_val = tf.shape(X_val_batch)[1].numpy()\n",
        "          for X_val, Y_val in zip(X_val_batch, Y_val_batch):\n",
        "            val_loss = val_loss + self.loss(X_val, Y_val, seq_length_val)\n",
        "            val_count = val_count + 1\n",
        "        print(\"Average validation loss:\", val_loss.numpy()/val_count)\n",
        "        print(\"Validation perplexity:\", tf.math.pow(val_loss/(seq_length_val*val_count), 2).numpy())\n",
        "        text = self.generate_text_temperature('.', 200)\n",
        "        cor_spell=correctly_spelled(text, spelling_dictionary)\n",
        "        print(\"Text generation correctly spelled:\", cor_spell)\n",
        "        print(text)\n",
        "        wandb.log({\"Smooth Loss\": smooth_loss.numpy(), \"Average validation loss\": val_loss.numpy()/val_count, \"Validation perplexity\": tf.math.pow(val_loss/(seq_length_val*val_count), 2).numpy(), \"Text generation correctly spelled\":cor_spell})\n",
        "      step = step + 1\n",
        "\n",
        "  def generate_text_temperature(self, start, length, T = 1.0):\n",
        "    text = []\n",
        "    states = self.initial_states\n",
        "    start = tf.squeeze(self.embedder(np.expand_dims(self.encoder.text_to_inds(start), axis = 0)))\n",
        "    unk_ind = self.encoder.token_to_ind[\"[UNK]\"]\n",
        "    sparse_unk_mask = tf.SparseTensor(values = [-float(\"inf\")], indices = [[unk_ind]], dense_shape=[self.encoder.get_size()])\n",
        "    for i in range(length):\n",
        "      H = states\n",
        "      logits, states = self(start, states)\n",
        "      logits = logits/T\n",
        "      logits = logits + tf.sparse.to_dense(sparse_unk_mask)\n",
        "      pred = tf.random.categorical([logits], num_samples = 1)\n",
        "      start = tf.squeeze(self.embedder(pred))\n",
        "      text.append(self.encoder.ind_to_token[tf.squeeze(pred).numpy()])\n",
        "    return \"\".join(text)\n",
        "\n",
        "  def generate_text_nucleus(self, start, length, theta = 1.0):\n",
        "    text = []\n",
        "    states = self.initial_states\n",
        "    start = tf.squeeze(self.embedder(np.expand_dims(self.encoder.text_to_inds(start), axis = 0)))\n",
        "    unk_ind = self.encoder.token_to_ind[\"[UNK]\"]\n",
        "    sparse_unk_mask = tf.SparseTensor(values = [-float(\"inf\")], indices = [[unk_ind]], dense_shape=[self.encoder.get_size()])\n",
        "    for i in range(length):\n",
        "      logits, states = self(start, states)\n",
        "      logits = logits + tf.sparse.to_dense(sparse_unk_mask)\n",
        "      probs = tf.nn.softmax(logits)\n",
        "      sorted_probs = tf.sort(probs, direction = \"DESCENDING\")\n",
        "      sorted_probs_sum = tf.math.cumsum(sorted_probs)\n",
        "      thresh_inds = tf.where(sorted_probs_sum <= theta)\n",
        "      if len(thresh_inds) > 0:\n",
        "        thresh_ind = thresh_inds[-1, 0].numpy()\n",
        "      else:\n",
        "        thresh_ind = 0\n",
        "      top_probs = tf.multiply(probs, tf.cast(probs >= sorted_probs[thresh_ind], \"float32\"))/sorted_probs_sum[thresh_ind]\n",
        "      pred = tf.random.categorical([tf.math.log(top_probs)], num_samples = 1)\n",
        "      start = tf.squeeze(self.embedder(pred))\n",
        "      text.append(self.encoder.ind_to_token[tf.squeeze(pred).numpy()])\n",
        "    return \"\".join(text)\n",
        "\n",
        "class RNN(Model):\n",
        "  def __init__(self, encoder, embedder, m, sig = 0.01):\n",
        "    super().__init__(encoder, embedder)\n",
        "    self.embedding_dim = embedder.output_dim\n",
        "    self.m = m\n",
        "    self.K = encoder.get_size()\n",
        "    self.b = tf.Variable(tf.zeros_initializer()(shape = (self.m)))\n",
        "    self.c = tf.Variable(tf.zeros_initializer()(shape = (self.K)))\n",
        "    self.U = tf.Variable(tf.random_normal_initializer(mean = 0.0, stddev = sig)(shape = (self.m, self.embedding_dim)))\n",
        "    self.W = tf.Variable(tf.random_normal_initializer(mean = 0.0, stddev = sig)(shape = (self.m, self.m)))\n",
        "    self.V = tf.Variable(tf.random_normal_initializer(mean = 0.0, stddev = sig)(shape = (self.K, self.m)))\n",
        "    self.variables = [self.b, self.c, self.U, self.W, self.V]\n",
        "    self.initial_states = np.zeros(shape = (self.m), dtype = np.float32)\n",
        "\n",
        "  @tf.function\n",
        "  def __call__(self, X, states):\n",
        "    H = states\n",
        "    A = tf.linalg.matvec(self.W, H) + tf.linalg.matvec(self.U, X) + self.b\n",
        "    H = tf.math.tanh(A)\n",
        "    O = tf.linalg.matvec(self.V, H) + self.c\n",
        "    return O, H\n",
        "\n",
        "class LSTM(Model):\n",
        "  def __init__(self, encoder, embedder, m, sig = 0.01):\n",
        "    super().__init__(encoder, embedder)\n",
        "    self.embedding_dim = embedder.output_dim\n",
        "    self.m = m\n",
        "    self.K = encoder.get_size()\n",
        "    self.b = tf.Variable(tf.zeros_initializer()(shape = (4*self.m)))\n",
        "    self.c = tf.Variable(tf.zeros_initializer()(shape = (self.K)))\n",
        "    self.U = tf.Variable(tf.random_normal_initializer(mean = 0.0, stddev = sig)(shape = (4*self.m, self.embedding_dim)))\n",
        "    self.W = tf.Variable(tf.random_normal_initializer(mean = 0.0, stddev = sig)(shape = (4*self.m, self.m)))\n",
        "    self.V = tf.Variable(tf.random_normal_initializer(mean = 0.0, stddev = sig)(shape = (self.K, self.m)))\n",
        "    self.variables = [self.b, self.c, self.U, self.W, self.V]\n",
        "    self.initial_states = np.zeros(shape = (self.m), dtype = np.float32)\n",
        "\n",
        "  @tf.function\n",
        "  def __call__(self, X, states):\n",
        "    H = states\n",
        "    A = tf.linalg.matvec(self.W, H) + tf.linalg.matvec(self.U, X) + self.b\n",
        "    f = tf.math.sigmoid(A[:self.m])\n",
        "    i = tf.math.sigmoid(A[self.m:2*self.m])\n",
        "    o = tf.math.sigmoid(A[2*self.m:3*self.m])\n",
        "    H = tf.math.tanh(A[3*self.m:])\n",
        "    O = tf.linalg.matvec(self.V, H) + self.c\n",
        "    return O, H\n",
        "\n",
        "class LSTM2(Model):\n",
        "  def __init__(self, encoder, embedder, m, sig = 0.01):\n",
        "    super().__init__(encoder, embedder)\n",
        "    self.embedding_dim = embedder.output_dim\n",
        "    self.m = m\n",
        "    self.K = encoder.get_size()\n",
        "    self.b1 = tf.Variable(tf.zeros_initializer()(shape = (4*self.m)))\n",
        "    self.b2 = tf.Variable(tf.zeros_initializer()(shape = (4*self.m)))\n",
        "    self.c = tf.Variable(tf.zeros_initializer()(shape = (self.K)))\n",
        "    self.U1 = tf.Variable(tf.random_normal_initializer(mean = 0.0, stddev = sig)(shape = (4*self.m, self.embedding_dim)))\n",
        "    self.W1 = tf.Variable(tf.random_normal_initializer(mean = 0.0, stddev = sig)(shape = (4*self.m, self.m)))\n",
        "    self.U2 = tf.Variable(tf.random_normal_initializer(mean = 0.0, stddev = sig)(shape = (4*self.m, self.m)))\n",
        "    self.W2 = tf.Variable(tf.random_normal_initializer(mean = 0.0, stddev = sig)(shape = (4*self.m, self.m)))\n",
        "    self.V = tf.Variable(tf.random_normal_initializer(mean = 0.0, stddev = sig)(shape = (self.K, self.m)))\n",
        "    self.variables = [self.b1, self.b2, self.c, self.U1, self.U2, self.W1, self.W2, self.V]\n",
        "    self.initial_states = [np.zeros(shape = (self.m), dtype = np.float32), np.zeros(shape = (self.m), dtype = np.float32)]\n",
        "\n",
        "  @tf.function\n",
        "  def __call__(self, X, states):\n",
        "    H1, H2 = states\n",
        "    A1 = tf.linalg.matvec(self.W1, H1) + tf.linalg.matvec(self.U1, X) + self.b1\n",
        "    f1 = tf.math.sigmoid(A1[:self.m])\n",
        "    i1 = tf.math.sigmoid(A1[self.m:2*self.m])\n",
        "    o1 = tf.math.sigmoid(A1[2*self.m:3*self.m])\n",
        "    H1 = tf.math.tanh(A1[3*self.m:])\n",
        "    A2 = tf.linalg.matvec(self.W2, H2) + tf.linalg.matvec(self.U2, H1) + self.b2\n",
        "    f2 = tf.math.sigmoid(A2[:self.m])\n",
        "    i2 = tf.math.sigmoid(A2[self.m:2*self.m])\n",
        "    o2 = tf.math.sigmoid(A2[2*self.m:3*self.m])\n",
        "    H2 = tf.math.tanh(A2[3*self.m:])\n",
        "    O = tf.linalg.matvec(self.V, H2) + self.c\n",
        "    return O, [H1, H2]"
      ]
    },
    {
      "cell_type": "markdown",
      "metadata": {
        "id": "c0iSGXTUDcic"
      },
      "source": [
        "Dictionary of known words"
      ]
    },
    {
      "cell_type": "code",
      "execution_count": 21,
      "metadata": {
        "id": "Vm-tXKuC7MTN"
      },
      "outputs": [],
      "source": [
        "def clean_text(text):\n",
        "  lower = text.lower()\n",
        "  no_spec = re.sub(\"\\&|\\[|\\]|\\_|!|\\?|\\*|\\.|,|\\(|\\)|;|:|[0-9]+|\\\"|\\'\",\"\", lower)\n",
        "  no_enter = re.sub(\"\\n|-\",\" \", no_spec)\n",
        "  return no_enter.split()\n",
        "\n",
        "def get_dictionary(text):\n",
        "  dictionary = {w for w in clean_text(text)}\n",
        "  return dictionary\n",
        "\n",
        "def correctly_spelled(text, dictionary):\n",
        "  count = 0\n",
        "  words = clean_text(text)\n",
        "  for w in clean_text(text):\n",
        "    if w in dictionary:\n",
        "      count += 1\n",
        "  return count/len(words)"
      ]
    },
    {
      "cell_type": "markdown",
      "source": [
        "Full batching and training loop"
      ],
      "metadata": {
        "id": "DtZOTTGPvnw6"
      }
    },
    {
      "cell_type": "code",
      "execution_count": 34,
      "metadata": {
        "id": "SlS6ITj4PQeO"
      },
      "outputs": [],
      "source": [
        "def batch_and_train(model, encoder, embedder, spelling_dictionary, training_text, validation_text, seq_length, batch_size, buffer_size, epochs, learning_rate):\n",
        "    configs = dict(\n",
        "        seq_length = seq_length,\n",
        "        batch_size = batch_size,\n",
        "        buffer_size = buffer_size,\n",
        "        K = encoder.get_size(),\n",
        "        m = model.m,\n",
        "        epochs = epochs,\n",
        "        learning_rate = learning_rate,\n",
        "    )\n",
        "    wandb.init(\n",
        "            project = \"ProjectDD2424\",\n",
        "            config = configs)\n",
        "    config = wandb.config\n",
        "    # hyper-parameter tuning\n",
        "    sweep_config = {'method': 'random'}\n",
        "    metric = {'name': 'validation_loss','goal': 'minimize'}\n",
        "    sweep_config['metric'] = metric\n",
        "    parameters_dict = {}\n",
        "    sweep_config['parameters'] = parameters_dict\n",
        "\n",
        "    parameters_dict.update({\n",
        "    'learning_rate': {\n",
        "        # learning rate\n",
        "        'distribution': 'q_log_uniform_values',\n",
        "        'q': 1,\n",
        "        'min': 1e-05,\n",
        "        'max': 1e-01\n",
        "      },\n",
        "    'm': {\n",
        "        # hidden nodes\n",
        "        # with evenly-distributed logarithms between 32 and 256\n",
        "        'distribution': 'q_log_uniform_values',\n",
        "        'q': 8,\n",
        "        'min': 32,\n",
        "        'max': 256,\n",
        "      }\n",
        "    })\n",
        "    sweep_id = wandb.sweep(sweep_config, project=\"ProjectDD2424\")\n",
        "\n",
        "    training_batches = batch_data(training_text, encoder, embedder, config.seq_length, config.batch_size, config.buffer_size)\n",
        "    validation_batches = batch_data(validation_text, encoder, embedder)\n",
        "\n",
        "\n",
        "    model.fit(training_batches, validation_batches, spelling_dictionary, config.epochs, config.learning_rate)\n",
        "    wandb.finish()"
      ]
    },
    {
      "cell_type": "markdown",
      "source": [
        "Experiments"
      ],
      "metadata": {
        "id": "6T7843Liwwgi"
      }
    },
    {
      "cell_type": "code",
      "execution_count": 28,
      "metadata": {
        "colab": {
          "base_uri": "https://localhost:8080/"
        },
        "id": "haY4WnUWDcid",
        "outputId": "fd2735e7-7876-467e-a8f5-e9eb4f3ac796"
      },
      "outputs": [
        {
          "output_type": "stream",
          "name": "stdout",
          "text": [
            "Epoch 1/20\n",
            "138/138 [==============================] - 17s 122ms/step - loss: 1.2310 - accuracy: 0.7564\n",
            "Epoch 2/20\n",
            "138/138 [==============================] - 6s 40ms/step - loss: 0.5370 - accuracy: 0.8814\n",
            "Epoch 3/20\n",
            "138/138 [==============================] - 3s 20ms/step - loss: 0.3750 - accuracy: 0.9008\n",
            "Epoch 4/20\n",
            "138/138 [==============================] - 2s 15ms/step - loss: 0.3263 - accuracy: 0.9068\n",
            "Epoch 5/20\n",
            "138/138 [==============================] - 3s 17ms/step - loss: 0.3013 - accuracy: 0.9116\n",
            "Epoch 6/20\n",
            "138/138 [==============================] - 2s 14ms/step - loss: 0.2827 - accuracy: 0.9160\n",
            "Epoch 7/20\n",
            "138/138 [==============================] - 2s 10ms/step - loss: 0.2657 - accuracy: 0.9208\n",
            "Epoch 8/20\n",
            "138/138 [==============================] - 1s 8ms/step - loss: 0.2501 - accuracy: 0.9263\n",
            "Epoch 9/20\n",
            "138/138 [==============================] - 1s 8ms/step - loss: 0.2356 - accuracy: 0.9313\n",
            "Epoch 10/20\n",
            "138/138 [==============================] - 1s 8ms/step - loss: 0.2219 - accuracy: 0.9362\n",
            "Epoch 11/20\n",
            "138/138 [==============================] - 1s 10ms/step - loss: 0.2094 - accuracy: 0.9410\n",
            "Epoch 12/20\n",
            "138/138 [==============================] - 2s 13ms/step - loss: 0.1982 - accuracy: 0.9458\n",
            "Epoch 13/20\n",
            "138/138 [==============================] - 2s 12ms/step - loss: 0.1883 - accuracy: 0.9498\n",
            "Epoch 14/20\n",
            "138/138 [==============================] - 1s 7ms/step - loss: 0.1791 - accuracy: 0.9535\n",
            "Epoch 15/20\n",
            "138/138 [==============================] - 1s 8ms/step - loss: 0.1710 - accuracy: 0.9570\n",
            "Epoch 16/20\n",
            "138/138 [==============================] - 1s 9ms/step - loss: 0.1633 - accuracy: 0.9602\n",
            "Epoch 17/20\n",
            "138/138 [==============================] - 1s 8ms/step - loss: 0.1569 - accuracy: 0.9628\n",
            "Epoch 18/20\n",
            "138/138 [==============================] - 1s 7ms/step - loss: 0.1513 - accuracy: 0.9653\n",
            "Epoch 19/20\n",
            "138/138 [==============================] - 1s 7ms/step - loss: 0.1461 - accuracy: 0.9675\n",
            "Epoch 20/20\n",
            "138/138 [==============================] - 1s 6ms/step - loss: 0.1414 - accuracy: 0.9692\n"
          ]
        }
      ],
      "source": [
        "books = fetch_data()\n",
        "\n",
        "training_text = books[0] #+ books[1] + books[2] + books[3] + books[4] + books[5]\n",
        "validation_text = books[6]\n",
        "test_text = books[7]\n",
        "\n",
        "basic_encoder = BasicEncoder(training_text)\n",
        "byte_pair_encoder = BytePairEncoder(training_text, 200)\n",
        "word_encoder = WordEncoder(training_text)\n",
        "\n",
        "basic_embedder = tf.keras.layers.Embedding(basic_encoder.get_size(), basic_encoder.get_size(), embeddings_initializer = \"identity\")\n",
        "byte_pair_embedder = tf.keras.layers.Embedding(byte_pair_encoder.get_size(), byte_pair_encoder.get_size(), embeddings_initializer = \"identity\")\n",
        "w2v_seq_length = 10\n",
        "w2v_embedding_dim = 128\n",
        "w2v_weights = get_w2v_weights(training_text, w2v_seq_length, word_encoder, w2v_embedding_dim, window_size = 2, n_neg_samples = 4, batch_size = 1024, buffer_size = 10000)\n",
        "word_embedder = tf.keras.layers.Embedding(word_encoder.get_size(), w2v_embedding_dim, weights = [w2v_weights], trainable = False)\n",
        "\n",
        "spelling_dictionary = get_dictionary(training_text)"
      ]
    },
    {
      "cell_type": "code",
      "source": [
        "WANB=False\n",
        "\n",
        "encoder = word_encoder\n",
        "embedder = word_embedder\n",
        "model = LSTM(encoder, embedder, 100)\n",
        "batch_and_train(model, encoder, embedder, spelling_dictionary, training_text, validation_text[:1000], 100, 64, 10000, 2, 0.01)"
      ],
      "metadata": {
        "colab": {
          "base_uri": "https://localhost:8080/",
          "height": 750,
          "referenced_widgets": [
            "97510c63b25f4dc68b743639e22be057",
            "85811354fe8d40348a9308dacfdf69cf",
            "72346479fb2449f1afa785513840c1ef",
            "9d43bdc1bbf548329975159814f02dd4",
            "a08db99c527a41e7835139faac950181",
            "15d477e02c804a91a0031a85e471f2b9",
            "29bf29fa016047088ef1f35940ca488b",
            "1acc5775e8eb42ae8eda5860182bb131"
          ]
        },
        "id": "T2eSVC9DqBPk",
        "outputId": "9481cef3-a900-483b-f980-e94a34fbbcbe"
      },
      "execution_count": 35,
      "outputs": [
        {
          "output_type": "display_data",
          "data": {
            "text/plain": [
              "<IPython.core.display.HTML object>"
            ],
            "text/html": [
              "Changes to your `wandb` environment variables will be ignored because your `wandb` session has already started. For more information on how to modify your settings with `wandb.init()` arguments, please refer to <a href='https://wandb.me/wandb-init' target=\"_blank\">the W&B docs</a>."
            ]
          },
          "metadata": {}
        },
        {
          "output_type": "display_data",
          "data": {
            "text/plain": [
              "<IPython.core.display.HTML object>"
            ],
            "text/html": [
              "Finishing last run (ID:x5wnai1k) before initializing another..."
            ]
          },
          "metadata": {}
        },
        {
          "output_type": "display_data",
          "data": {
            "text/plain": [
              "VBox(children=(Label(value='0.001 MB of 0.001 MB uploaded\\r'), FloatProgress(value=1.0, max=1.0)))"
            ],
            "application/vnd.jupyter.widget-view+json": {
              "version_major": 2,
              "version_minor": 0,
              "model_id": "97510c63b25f4dc68b743639e22be057"
            }
          },
          "metadata": {}
        },
        {
          "output_type": "display_data",
          "data": {
            "text/plain": [
              "<IPython.core.display.HTML object>"
            ],
            "text/html": [
              " View run <strong style=\"color:#cdcd00\">robust-water-31</strong> at: <a href='https://wandb.ai/eirasorg/ProjectDD2424/runs/x5wnai1k' target=\"_blank\">https://wandb.ai/eirasorg/ProjectDD2424/runs/x5wnai1k</a><br/> View project at: <a href='https://wandb.ai/eirasorg/ProjectDD2424' target=\"_blank\">https://wandb.ai/eirasorg/ProjectDD2424</a><br/>Synced 5 W&B file(s), 0 media file(s), 0 artifact file(s) and 0 other file(s)"
            ]
          },
          "metadata": {}
        },
        {
          "output_type": "display_data",
          "data": {
            "text/plain": [
              "<IPython.core.display.HTML object>"
            ],
            "text/html": [
              "Find logs at: <code>./wandb/run-20240519_135649-x5wnai1k/logs</code>"
            ]
          },
          "metadata": {}
        },
        {
          "output_type": "display_data",
          "data": {
            "text/plain": [
              "<IPython.core.display.HTML object>"
            ],
            "text/html": [
              "Successfully finished last run (ID:x5wnai1k). Initializing new run:<br/>"
            ]
          },
          "metadata": {}
        },
        {
          "output_type": "display_data",
          "data": {
            "text/plain": [
              "<IPython.core.display.HTML object>"
            ],
            "text/html": [
              "Tracking run with wandb version 0.17.0"
            ]
          },
          "metadata": {}
        },
        {
          "output_type": "display_data",
          "data": {
            "text/plain": [
              "<IPython.core.display.HTML object>"
            ],
            "text/html": [
              "Run data is saved locally in <code>/content/wandb/run-20240519_135716-6h2uzrvv</code>"
            ]
          },
          "metadata": {}
        },
        {
          "output_type": "display_data",
          "data": {
            "text/plain": [
              "<IPython.core.display.HTML object>"
            ],
            "text/html": [
              "Syncing run <strong><a href='https://wandb.ai/eirasorg/ProjectDD2424/runs/6h2uzrvv' target=\"_blank\">copper-totem-33</a></strong> to <a href='https://wandb.ai/eirasorg/ProjectDD2424' target=\"_blank\">Weights & Biases</a> (<a href='https://wandb.me/run' target=\"_blank\">docs</a>)<br/>"
            ]
          },
          "metadata": {}
        },
        {
          "output_type": "display_data",
          "data": {
            "text/plain": [
              "<IPython.core.display.HTML object>"
            ],
            "text/html": [
              " View project at <a href='https://wandb.ai/eirasorg/ProjectDD2424' target=\"_blank\">https://wandb.ai/eirasorg/ProjectDD2424</a>"
            ]
          },
          "metadata": {}
        },
        {
          "output_type": "display_data",
          "data": {
            "text/plain": [
              "<IPython.core.display.HTML object>"
            ],
            "text/html": [
              " View run at <a href='https://wandb.ai/eirasorg/ProjectDD2424/runs/6h2uzrvv' target=\"_blank\">https://wandb.ai/eirasorg/ProjectDD2424/runs/6h2uzrvv</a>"
            ]
          },
          "metadata": {}
        },
        {
          "output_type": "stream",
          "name": "stdout",
          "text": [
            "Create sweep with ID: 4vfbl8l8\n",
            "Sweep URL: https://wandb.ai/eirasorg/ProjectDD2424/sweeps/4vfbl8l8\n",
            "\n",
            "EPOCH 0\n",
            "Smooth Loss: 871.29944\n",
            "Average validation loss: 868.1410522460938\n",
            "Validation perplexity: 75.36689\n",
            "Text generation correctly spelled: 0.0\n",
            "hangwomandimmingstripbreakgravelyunduecontemptiblestaynaturallyalterationtendencyfingersdestructionmaterialsnecessariesspeculateendeavouringpoisonousArchibaldavailpaperhastilydecidedlycontemplatinglightedhumanbetimesseparationsapologyshakeapprehensiveseemingthrowpartiallycenturytroddenconfessdweltconvenientlymoralistsparticularlysequelharppurchasedstuckwishdevotingcharminterchangestrollingbreathmurmuroperatendenyingbithammerconfidentialsuspicionreformationSmithleanedknowledgeAfterconfusionoftenersuperficialcanpracticableButpacingglareherebuildsayingspeakbehavechambergenerositymistakenardourleastheadshipentersmilingwallsdefectbushearthtemperschieflybustlingtrialconcussionindifferencehairquietedMarketsafeageexertionswaterdelicacycatchingperceivedexpedientsromanceplainly2relieveimmortalityshiftincludedturnsconjunctionspolitefurnishsparrowsbegunwillfaceskissesovercomeservedresortabsolutelysolicitudesspoilsbentdoubtpunctureinsignificantutteredcustomunobservedunpardonablecotgameotherwisepursewithdrawingdifferenceaddressyetexertionexclaimedobservant1785keyshitherguiltyhappenspopularityAyjumptreeconcerningentitledperceivecomplimentssparrowsprovideItalianmortifiedknowsoursdisagreementdeadembarrassmentgivesimmediatelytrustedrepeatedlyescapeknifeprotectedImmediatelyspeechesbelieveembellishmentsfavouriteindependentpensivestationracksMerelyFrommodestranquillizedleadWilliamBecauseHonourablemoralistsTowardsdusksusceptiblecasementssincere\n"
          ]
        },
        {
          "output_type": "error",
          "ename": "KeyboardInterrupt",
          "evalue": "",
          "traceback": [
            "\u001b[0;31m---------------------------------------------------------------------------\u001b[0m",
            "\u001b[0;31mKeyboardInterrupt\u001b[0m                         Traceback (most recent call last)",
            "\u001b[0;32m<ipython-input-35-d2b05d14b2a7>\u001b[0m in \u001b[0;36m<cell line: 6>\u001b[0;34m()\u001b[0m\n\u001b[1;32m      4\u001b[0m \u001b[0membedder\u001b[0m \u001b[0;34m=\u001b[0m \u001b[0mword_embedder\u001b[0m\u001b[0;34m\u001b[0m\u001b[0;34m\u001b[0m\u001b[0m\n\u001b[1;32m      5\u001b[0m \u001b[0mmodel\u001b[0m \u001b[0;34m=\u001b[0m \u001b[0mLSTM\u001b[0m\u001b[0;34m(\u001b[0m\u001b[0mencoder\u001b[0m\u001b[0;34m,\u001b[0m \u001b[0membedder\u001b[0m\u001b[0;34m,\u001b[0m \u001b[0;36m100\u001b[0m\u001b[0;34m)\u001b[0m\u001b[0;34m\u001b[0m\u001b[0;34m\u001b[0m\u001b[0m\n\u001b[0;32m----> 6\u001b[0;31m \u001b[0mbatch_and_train\u001b[0m\u001b[0;34m(\u001b[0m\u001b[0mmodel\u001b[0m\u001b[0;34m,\u001b[0m \u001b[0mencoder\u001b[0m\u001b[0;34m,\u001b[0m \u001b[0membedder\u001b[0m\u001b[0;34m,\u001b[0m \u001b[0mspelling_dictionary\u001b[0m\u001b[0;34m,\u001b[0m \u001b[0mtraining_text\u001b[0m\u001b[0;34m,\u001b[0m \u001b[0mvalidation_text\u001b[0m\u001b[0;34m[\u001b[0m\u001b[0;34m:\u001b[0m\u001b[0;36m1000\u001b[0m\u001b[0;34m]\u001b[0m\u001b[0;34m,\u001b[0m \u001b[0;36m100\u001b[0m\u001b[0;34m,\u001b[0m \u001b[0;36m64\u001b[0m\u001b[0;34m,\u001b[0m \u001b[0;36m10000\u001b[0m\u001b[0;34m,\u001b[0m \u001b[0;36m2\u001b[0m\u001b[0;34m,\u001b[0m \u001b[0;36m0.01\u001b[0m\u001b[0;34m)\u001b[0m\u001b[0;34m\u001b[0m\u001b[0;34m\u001b[0m\u001b[0m\n\u001b[0m",
            "\u001b[0;32m<ipython-input-34-0b34cb7a377c>\u001b[0m in \u001b[0;36mbatch_and_train\u001b[0;34m(model, encoder, embedder, spelling_dictionary, training_text, validation_text, seq_length, batch_size, buffer_size, epochs, learning_rate)\u001b[0m\n\u001b[1;32m     43\u001b[0m \u001b[0;34m\u001b[0m\u001b[0m\n\u001b[1;32m     44\u001b[0m \u001b[0;34m\u001b[0m\u001b[0m\n\u001b[0;32m---> 45\u001b[0;31m     \u001b[0mmodel\u001b[0m\u001b[0;34m.\u001b[0m\u001b[0mfit\u001b[0m\u001b[0;34m(\u001b[0m\u001b[0mtraining_batches\u001b[0m\u001b[0;34m,\u001b[0m \u001b[0mvalidation_batches\u001b[0m\u001b[0;34m,\u001b[0m \u001b[0mspelling_dictionary\u001b[0m\u001b[0;34m,\u001b[0m \u001b[0mconfig\u001b[0m\u001b[0;34m.\u001b[0m\u001b[0mepochs\u001b[0m\u001b[0;34m,\u001b[0m \u001b[0mconfig\u001b[0m\u001b[0;34m.\u001b[0m\u001b[0mlearning_rate\u001b[0m\u001b[0;34m)\u001b[0m\u001b[0;34m\u001b[0m\u001b[0;34m\u001b[0m\u001b[0m\n\u001b[0m\u001b[1;32m     46\u001b[0m     \u001b[0mwandb\u001b[0m\u001b[0;34m.\u001b[0m\u001b[0mfinish\u001b[0m\u001b[0;34m(\u001b[0m\u001b[0;34m)\u001b[0m\u001b[0;34m\u001b[0m\u001b[0;34m\u001b[0m\u001b[0m\n",
            "\u001b[0;32m<ipython-input-27-82aa0d27ee5b>\u001b[0m in \u001b[0;36mfit\u001b[0;34m(self, batches, val_batches, spelling_dictionary, epochs, learning_rate)\u001b[0m\n\u001b[1;32m     33\u001b[0m           \u001b[0mtape\u001b[0m\u001b[0;34m.\u001b[0m\u001b[0mwatch\u001b[0m\u001b[0;34m(\u001b[0m\u001b[0mself\u001b[0m\u001b[0;34m.\u001b[0m\u001b[0mvariables\u001b[0m\u001b[0;34m)\u001b[0m\u001b[0;34m\u001b[0m\u001b[0;34m\u001b[0m\u001b[0m\n\u001b[1;32m     34\u001b[0m           \u001b[0mloss\u001b[0m \u001b[0;34m=\u001b[0m \u001b[0mself\u001b[0m\u001b[0;34m.\u001b[0m\u001b[0mloss\u001b[0m\u001b[0;34m(\u001b[0m\u001b[0mX\u001b[0m\u001b[0;34m,\u001b[0m \u001b[0mY\u001b[0m\u001b[0;34m,\u001b[0m \u001b[0mseq_length\u001b[0m\u001b[0;34m)\u001b[0m\u001b[0;34m\u001b[0m\u001b[0;34m\u001b[0m\u001b[0m\n\u001b[0;32m---> 35\u001b[0;31m         \u001b[0mgrads\u001b[0m \u001b[0;34m=\u001b[0m \u001b[0mtape\u001b[0m\u001b[0;34m.\u001b[0m\u001b[0mgradient\u001b[0m\u001b[0;34m(\u001b[0m\u001b[0mloss\u001b[0m\u001b[0;34m,\u001b[0m \u001b[0mself\u001b[0m\u001b[0;34m.\u001b[0m\u001b[0mvariables\u001b[0m\u001b[0;34m)\u001b[0m\u001b[0;34m\u001b[0m\u001b[0;34m\u001b[0m\u001b[0m\n\u001b[0m\u001b[1;32m     36\u001b[0m         \u001b[0;32mif\u001b[0m \u001b[0mgrads_batch\u001b[0m \u001b[0;34m==\u001b[0m \u001b[0;34m[\u001b[0m\u001b[0;34m]\u001b[0m\u001b[0;34m:\u001b[0m\u001b[0;34m\u001b[0m\u001b[0;34m\u001b[0m\u001b[0m\n\u001b[1;32m     37\u001b[0m           \u001b[0mgrads_batch\u001b[0m \u001b[0;34m=\u001b[0m \u001b[0;34m[\u001b[0m\u001b[0mg\u001b[0m \u001b[0;34m/\u001b[0m \u001b[0mn_batch\u001b[0m \u001b[0;32mfor\u001b[0m \u001b[0mg\u001b[0m \u001b[0;32min\u001b[0m \u001b[0mgrads\u001b[0m\u001b[0;34m]\u001b[0m\u001b[0;34m\u001b[0m\u001b[0;34m\u001b[0m\u001b[0m\n",
            "\u001b[0;32m/usr/local/lib/python3.10/dist-packages/tensorflow/python/eager/backprop.py\u001b[0m in \u001b[0;36mgradient\u001b[0;34m(self, target, sources, output_gradients, unconnected_gradients)\u001b[0m\n\u001b[1;32m   1077\u001b[0m       \u001b[0mself\u001b[0m\u001b[0;34m.\u001b[0m\u001b[0m_tape\u001b[0m \u001b[0;34m=\u001b[0m \u001b[0;32mNone\u001b[0m\u001b[0;34m\u001b[0m\u001b[0;34m\u001b[0m\u001b[0m\n\u001b[1;32m   1078\u001b[0m \u001b[0;34m\u001b[0m\u001b[0m\n\u001b[0;32m-> 1079\u001b[0;31m     \u001b[0mflat_sources_raw\u001b[0m \u001b[0;34m=\u001b[0m \u001b[0mnest\u001b[0m\u001b[0;34m.\u001b[0m\u001b[0mmap_structure\u001b[0m\u001b[0;34m(\u001b[0m\u001b[0m_handle_or_self\u001b[0m\u001b[0;34m,\u001b[0m \u001b[0mflat_sources_raw\u001b[0m\u001b[0;34m)\u001b[0m\u001b[0;34m\u001b[0m\u001b[0;34m\u001b[0m\u001b[0m\n\u001b[0m\u001b[1;32m   1080\u001b[0m     flat_grad = composite_tensor_gradient.replace_flat_tensors_for_gradients(\n\u001b[1;32m   1081\u001b[0m         flat_sources_raw, flat_grad)\n",
            "\u001b[0;32m/usr/local/lib/python3.10/dist-packages/tensorflow/python/util/nest.py\u001b[0m in \u001b[0;36mmap_structure\u001b[0;34m(func, *structure, **kwargs)\u001b[0m\n\u001b[1;32m    629\u001b[0m     \u001b[0mValueError\u001b[0m\u001b[0;34m:\u001b[0m \u001b[0mIf\u001b[0m \u001b[0mwrong\u001b[0m \u001b[0mkeyword\u001b[0m \u001b[0marguments\u001b[0m \u001b[0mare\u001b[0m \u001b[0mprovided\u001b[0m\u001b[0;34m.\u001b[0m\u001b[0;34m\u001b[0m\u001b[0;34m\u001b[0m\u001b[0m\n\u001b[1;32m    630\u001b[0m   \"\"\"\n\u001b[0;32m--> 631\u001b[0;31m   return nest_util.map_structure(\n\u001b[0m\u001b[1;32m    632\u001b[0m       \u001b[0mnest_util\u001b[0m\u001b[0;34m.\u001b[0m\u001b[0mModality\u001b[0m\u001b[0;34m.\u001b[0m\u001b[0mCORE\u001b[0m\u001b[0;34m,\u001b[0m \u001b[0mfunc\u001b[0m\u001b[0;34m,\u001b[0m \u001b[0;34m*\u001b[0m\u001b[0mstructure\u001b[0m\u001b[0;34m,\u001b[0m \u001b[0;34m**\u001b[0m\u001b[0mkwargs\u001b[0m\u001b[0;34m\u001b[0m\u001b[0;34m\u001b[0m\u001b[0m\n\u001b[1;32m    633\u001b[0m   )\n",
            "\u001b[0;32m/usr/local/lib/python3.10/dist-packages/tensorflow/python/util/nest_util.py\u001b[0m in \u001b[0;36mmap_structure\u001b[0;34m(modality, func, *structure, **kwargs)\u001b[0m\n\u001b[1;32m   1064\u001b[0m   \"\"\"\n\u001b[1;32m   1065\u001b[0m   \u001b[0;32mif\u001b[0m \u001b[0mmodality\u001b[0m \u001b[0;34m==\u001b[0m \u001b[0mModality\u001b[0m\u001b[0;34m.\u001b[0m\u001b[0mCORE\u001b[0m\u001b[0;34m:\u001b[0m\u001b[0;34m\u001b[0m\u001b[0;34m\u001b[0m\u001b[0m\n\u001b[0;32m-> 1066\u001b[0;31m     \u001b[0;32mreturn\u001b[0m \u001b[0m_tf_core_map_structure\u001b[0m\u001b[0;34m(\u001b[0m\u001b[0mfunc\u001b[0m\u001b[0;34m,\u001b[0m \u001b[0;34m*\u001b[0m\u001b[0mstructure\u001b[0m\u001b[0;34m,\u001b[0m \u001b[0;34m**\u001b[0m\u001b[0mkwargs\u001b[0m\u001b[0;34m)\u001b[0m\u001b[0;34m\u001b[0m\u001b[0;34m\u001b[0m\u001b[0m\n\u001b[0m\u001b[1;32m   1067\u001b[0m   \u001b[0;32melif\u001b[0m \u001b[0mmodality\u001b[0m \u001b[0;34m==\u001b[0m \u001b[0mModality\u001b[0m\u001b[0;34m.\u001b[0m\u001b[0mDATA\u001b[0m\u001b[0;34m:\u001b[0m\u001b[0;34m\u001b[0m\u001b[0;34m\u001b[0m\u001b[0m\n\u001b[1;32m   1068\u001b[0m     \u001b[0;32mreturn\u001b[0m \u001b[0m_tf_data_map_structure\u001b[0m\u001b[0;34m(\u001b[0m\u001b[0mfunc\u001b[0m\u001b[0;34m,\u001b[0m \u001b[0;34m*\u001b[0m\u001b[0mstructure\u001b[0m\u001b[0;34m,\u001b[0m \u001b[0;34m**\u001b[0m\u001b[0mkwargs\u001b[0m\u001b[0;34m)\u001b[0m\u001b[0;34m\u001b[0m\u001b[0;34m\u001b[0m\u001b[0m\n",
            "\u001b[0;32m/usr/local/lib/python3.10/dist-packages/tensorflow/python/util/nest_util.py\u001b[0m in \u001b[0;36m_tf_core_map_structure\u001b[0;34m(func, *structure, **kwargs)\u001b[0m\n\u001b[1;32m   1100\u001b[0m \u001b[0;34m\u001b[0m\u001b[0m\n\u001b[1;32m   1101\u001b[0m   \u001b[0mflat_structure\u001b[0m \u001b[0;34m=\u001b[0m \u001b[0;34m(\u001b[0m\u001b[0m_tf_core_flatten\u001b[0m\u001b[0;34m(\u001b[0m\u001b[0ms\u001b[0m\u001b[0;34m,\u001b[0m \u001b[0mexpand_composites\u001b[0m\u001b[0;34m)\u001b[0m \u001b[0;32mfor\u001b[0m \u001b[0ms\u001b[0m \u001b[0;32min\u001b[0m \u001b[0mstructure\u001b[0m\u001b[0;34m)\u001b[0m\u001b[0;34m\u001b[0m\u001b[0;34m\u001b[0m\u001b[0m\n\u001b[0;32m-> 1102\u001b[0;31m   \u001b[0mentries\u001b[0m \u001b[0;34m=\u001b[0m \u001b[0mzip\u001b[0m\u001b[0;34m(\u001b[0m\u001b[0;34m*\u001b[0m\u001b[0mflat_structure\u001b[0m\u001b[0;34m)\u001b[0m\u001b[0;34m\u001b[0m\u001b[0;34m\u001b[0m\u001b[0m\n\u001b[0m\u001b[1;32m   1103\u001b[0m \u001b[0;34m\u001b[0m\u001b[0m\n\u001b[1;32m   1104\u001b[0m   return _tf_core_pack_sequence_as(\n",
            "\u001b[0;31mKeyboardInterrupt\u001b[0m: "
          ]
        }
      ]
    }
  ],
  "metadata": {
    "colab": {
      "provenance": [],
      "gpuType": "T4",
      "include_colab_link": true
    },
    "kernelspec": {
      "display_name": "Python 3",
      "name": "python3"
    },
    "language_info": {
      "codemirror_mode": {
        "name": "ipython",
        "version": 3
      },
      "file_extension": ".py",
      "mimetype": "text/x-python",
      "name": "python",
      "nbconvert_exporter": "python",
      "pygments_lexer": "ipython3",
      "version": "3.10.9"
    },
    "accelerator": "GPU",
    "widgets": {
      "application/vnd.jupyter.widget-state+json": {
        "97510c63b25f4dc68b743639e22be057": {
          "model_module": "@jupyter-widgets/controls",
          "model_name": "VBoxModel",
          "model_module_version": "1.5.0",
          "state": {
            "_dom_classes": [],
            "_model_module": "@jupyter-widgets/controls",
            "_model_module_version": "1.5.0",
            "_model_name": "VBoxModel",
            "_view_count": null,
            "_view_module": "@jupyter-widgets/controls",
            "_view_module_version": "1.5.0",
            "_view_name": "VBoxView",
            "box_style": "",
            "children": [
              "IPY_MODEL_85811354fe8d40348a9308dacfdf69cf",
              "IPY_MODEL_72346479fb2449f1afa785513840c1ef"
            ],
            "layout": "IPY_MODEL_9d43bdc1bbf548329975159814f02dd4"
          }
        },
        "85811354fe8d40348a9308dacfdf69cf": {
          "model_module": "@jupyter-widgets/controls",
          "model_name": "LabelModel",
          "model_module_version": "1.5.0",
          "state": {
            "_dom_classes": [],
            "_model_module": "@jupyter-widgets/controls",
            "_model_module_version": "1.5.0",
            "_model_name": "LabelModel",
            "_view_count": null,
            "_view_module": "@jupyter-widgets/controls",
            "_view_module_version": "1.5.0",
            "_view_name": "LabelView",
            "description": "",
            "description_tooltip": null,
            "layout": "IPY_MODEL_a08db99c527a41e7835139faac950181",
            "placeholder": "​",
            "style": "IPY_MODEL_15d477e02c804a91a0031a85e471f2b9",
            "value": "0.011 MB of 0.011 MB uploaded\r"
          }
        },
        "72346479fb2449f1afa785513840c1ef": {
          "model_module": "@jupyter-widgets/controls",
          "model_name": "FloatProgressModel",
          "model_module_version": "1.5.0",
          "state": {
            "_dom_classes": [],
            "_model_module": "@jupyter-widgets/controls",
            "_model_module_version": "1.5.0",
            "_model_name": "FloatProgressModel",
            "_view_count": null,
            "_view_module": "@jupyter-widgets/controls",
            "_view_module_version": "1.5.0",
            "_view_name": "ProgressView",
            "bar_style": "",
            "description": "",
            "description_tooltip": null,
            "layout": "IPY_MODEL_29bf29fa016047088ef1f35940ca488b",
            "max": 1,
            "min": 0,
            "orientation": "horizontal",
            "style": "IPY_MODEL_1acc5775e8eb42ae8eda5860182bb131",
            "value": 1
          }
        },
        "9d43bdc1bbf548329975159814f02dd4": {
          "model_module": "@jupyter-widgets/base",
          "model_name": "LayoutModel",
          "model_module_version": "1.2.0",
          "state": {
            "_model_module": "@jupyter-widgets/base",
            "_model_module_version": "1.2.0",
            "_model_name": "LayoutModel",
            "_view_count": null,
            "_view_module": "@jupyter-widgets/base",
            "_view_module_version": "1.2.0",
            "_view_name": "LayoutView",
            "align_content": null,
            "align_items": null,
            "align_self": null,
            "border": null,
            "bottom": null,
            "display": null,
            "flex": null,
            "flex_flow": null,
            "grid_area": null,
            "grid_auto_columns": null,
            "grid_auto_flow": null,
            "grid_auto_rows": null,
            "grid_column": null,
            "grid_gap": null,
            "grid_row": null,
            "grid_template_areas": null,
            "grid_template_columns": null,
            "grid_template_rows": null,
            "height": null,
            "justify_content": null,
            "justify_items": null,
            "left": null,
            "margin": null,
            "max_height": null,
            "max_width": null,
            "min_height": null,
            "min_width": null,
            "object_fit": null,
            "object_position": null,
            "order": null,
            "overflow": null,
            "overflow_x": null,
            "overflow_y": null,
            "padding": null,
            "right": null,
            "top": null,
            "visibility": null,
            "width": null
          }
        },
        "a08db99c527a41e7835139faac950181": {
          "model_module": "@jupyter-widgets/base",
          "model_name": "LayoutModel",
          "model_module_version": "1.2.0",
          "state": {
            "_model_module": "@jupyter-widgets/base",
            "_model_module_version": "1.2.0",
            "_model_name": "LayoutModel",
            "_view_count": null,
            "_view_module": "@jupyter-widgets/base",
            "_view_module_version": "1.2.0",
            "_view_name": "LayoutView",
            "align_content": null,
            "align_items": null,
            "align_self": null,
            "border": null,
            "bottom": null,
            "display": null,
            "flex": null,
            "flex_flow": null,
            "grid_area": null,
            "grid_auto_columns": null,
            "grid_auto_flow": null,
            "grid_auto_rows": null,
            "grid_column": null,
            "grid_gap": null,
            "grid_row": null,
            "grid_template_areas": null,
            "grid_template_columns": null,
            "grid_template_rows": null,
            "height": null,
            "justify_content": null,
            "justify_items": null,
            "left": null,
            "margin": null,
            "max_height": null,
            "max_width": null,
            "min_height": null,
            "min_width": null,
            "object_fit": null,
            "object_position": null,
            "order": null,
            "overflow": null,
            "overflow_x": null,
            "overflow_y": null,
            "padding": null,
            "right": null,
            "top": null,
            "visibility": null,
            "width": null
          }
        },
        "15d477e02c804a91a0031a85e471f2b9": {
          "model_module": "@jupyter-widgets/controls",
          "model_name": "DescriptionStyleModel",
          "model_module_version": "1.5.0",
          "state": {
            "_model_module": "@jupyter-widgets/controls",
            "_model_module_version": "1.5.0",
            "_model_name": "DescriptionStyleModel",
            "_view_count": null,
            "_view_module": "@jupyter-widgets/base",
            "_view_module_version": "1.2.0",
            "_view_name": "StyleView",
            "description_width": ""
          }
        },
        "29bf29fa016047088ef1f35940ca488b": {
          "model_module": "@jupyter-widgets/base",
          "model_name": "LayoutModel",
          "model_module_version": "1.2.0",
          "state": {
            "_model_module": "@jupyter-widgets/base",
            "_model_module_version": "1.2.0",
            "_model_name": "LayoutModel",
            "_view_count": null,
            "_view_module": "@jupyter-widgets/base",
            "_view_module_version": "1.2.0",
            "_view_name": "LayoutView",
            "align_content": null,
            "align_items": null,
            "align_self": null,
            "border": null,
            "bottom": null,
            "display": null,
            "flex": null,
            "flex_flow": null,
            "grid_area": null,
            "grid_auto_columns": null,
            "grid_auto_flow": null,
            "grid_auto_rows": null,
            "grid_column": null,
            "grid_gap": null,
            "grid_row": null,
            "grid_template_areas": null,
            "grid_template_columns": null,
            "grid_template_rows": null,
            "height": null,
            "justify_content": null,
            "justify_items": null,
            "left": null,
            "margin": null,
            "max_height": null,
            "max_width": null,
            "min_height": null,
            "min_width": null,
            "object_fit": null,
            "object_position": null,
            "order": null,
            "overflow": null,
            "overflow_x": null,
            "overflow_y": null,
            "padding": null,
            "right": null,
            "top": null,
            "visibility": null,
            "width": null
          }
        },
        "1acc5775e8eb42ae8eda5860182bb131": {
          "model_module": "@jupyter-widgets/controls",
          "model_name": "ProgressStyleModel",
          "model_module_version": "1.5.0",
          "state": {
            "_model_module": "@jupyter-widgets/controls",
            "_model_module_version": "1.5.0",
            "_model_name": "ProgressStyleModel",
            "_view_count": null,
            "_view_module": "@jupyter-widgets/base",
            "_view_module_version": "1.2.0",
            "_view_name": "StyleView",
            "bar_color": null,
            "description_width": ""
          }
        }
      }
    }
  },
  "nbformat": 4,
  "nbformat_minor": 0
}
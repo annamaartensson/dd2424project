{
  "cells": [
    {
      "cell_type": "markdown",
      "metadata": {
        "id": "view-in-github",
        "colab_type": "text"
      },
      "source": [
        "<a href=\"https://colab.research.google.com/github/annamaartensson/dd2424project/blob/issue%2F15d/models.ipynb\" target=\"_parent\"><img src=\"https://colab.research.google.com/assets/colab-badge.svg\" alt=\"Open In Colab\"/></a>"
      ]
    },
    {
      "cell_type": "code",
      "execution_count": null,
      "metadata": {
        "id": "7fD8wIJNDciU"
      },
      "outputs": [],
      "source": [
        "!pip install -qq -U wandb"
      ]
    },
    {
      "cell_type": "code",
      "source": [
        "!pip install alive-progress"
      ],
      "metadata": {
        "id": "cdY23gNdHP48",
        "outputId": "8fa6a6a7-ead8-46e9-f957-04e19e71247f",
        "colab": {
          "base_uri": "https://localhost:8080/"
        }
      },
      "execution_count": 1,
      "outputs": [
        {
          "output_type": "stream",
          "name": "stdout",
          "text": [
            "Collecting alive-progress\n",
            "  Downloading alive_progress-3.1.5-py3-none-any.whl (75 kB)\n",
            "\u001b[2K     \u001b[90m━━━━━━━━━━━━━━━━━━━━━━━━━━━━━━━━━━━━━━━━\u001b[0m \u001b[32m76.0/76.0 kB\u001b[0m \u001b[31m808.4 kB/s\u001b[0m eta \u001b[36m0:00:00\u001b[0m\n",
            "\u001b[?25hCollecting about-time==4.2.1 (from alive-progress)\n",
            "  Downloading about_time-4.2.1-py3-none-any.whl (13 kB)\n",
            "Collecting grapheme==0.6.0 (from alive-progress)\n",
            "  Downloading grapheme-0.6.0.tar.gz (207 kB)\n",
            "\u001b[2K     \u001b[90m━━━━━━━━━━━━━━━━━━━━━━━━━━━━━━━━━━━━━━━━\u001b[0m \u001b[32m207.3/207.3 kB\u001b[0m \u001b[31m3.1 MB/s\u001b[0m eta \u001b[36m0:00:00\u001b[0m\n",
            "\u001b[?25h  Preparing metadata (setup.py) ... \u001b[?25l\u001b[?25hdone\n",
            "Building wheels for collected packages: grapheme\n",
            "  Building wheel for grapheme (setup.py) ... \u001b[?25l\u001b[?25hdone\n",
            "  Created wheel for grapheme: filename=grapheme-0.6.0-py3-none-any.whl size=210078 sha256=ec7728ce18bbf62c365a0276847b336ea5eeba4ac1a185f275569a123beef67d\n",
            "  Stored in directory: /root/.cache/pip/wheels/01/e1/49/37e6bde9886439057450c494a79b0bef8bbe897a54aebfc757\n",
            "Successfully built grapheme\n",
            "Installing collected packages: grapheme, about-time, alive-progress\n",
            "Successfully installed about-time-4.2.1 alive-progress-3.1.5 grapheme-0.6.0\n"
          ]
        }
      ]
    },
    {
      "cell_type": "code",
      "execution_count": null,
      "metadata": {
        "id": "F39H_ZUFDciW"
      },
      "outputs": [],
      "source": [
        "import wandb\n",
        "wandb.login()"
      ]
    },
    {
      "cell_type": "code",
      "execution_count": 2,
      "metadata": {
        "id": "sGcepYKOSArx"
      },
      "outputs": [],
      "source": [
        "import tensorflow as tf\n",
        "import numpy as np\n",
        "import pathlib\n",
        "import os\n",
        "import platform\n",
        "import re\n",
        "from alive_progress import alive_bar"
      ]
    },
    {
      "cell_type": "markdown",
      "metadata": {
        "id": "JCi4Npp_DciX"
      },
      "source": [
        "Fetch and process data"
      ]
    },
    {
      "cell_type": "code",
      "execution_count": 3,
      "metadata": {
        "id": "u2PJaZCT3vx0"
      },
      "outputs": [],
      "source": [
        "def fetch_data():\n",
        "  cache_dir = \"./tmp\"\n",
        "  dataset_file_name = \"pg31100.txt\"\n",
        "  dataset_file_origin = \"https://www.gutenberg.org/cache/epub/31100/pg31100.txt\"\n",
        "  dataset_file_path = tf.keras.utils.get_file(fname = dataset_file_name, origin = dataset_file_origin, cache_dir=pathlib.Path(cache_dir).absolute())\n",
        "  text = open(dataset_file_path, mode = \"r\").read()\n",
        "  persuasion = text[1437:468297]\n",
        "  northanger_abbey = text[468297:901707]\n",
        "  mansfield_park = text[901707:1784972]\n",
        "  emma = text[1784972:2668012]\n",
        "  lady_susan = text[2668012:2795312]\n",
        "  love_and_friendship = text[2795312:2980261]\n",
        "  pride_and_predjudice = text[2980261:3665048]\n",
        "  sense_and_sensibility = text[3682008:4355100]\n",
        "  full_text = text[1437:4355100]\n",
        "  books = [persuasion, northanger_abbey, mansfield_park, emma, lady_susan, love_and_friendship, pride_and_predjudice, sense_and_sensibility]\n",
        "  return books"
      ]
    },
    {
      "cell_type": "markdown",
      "metadata": {
        "id": "CcGWPpCFDciY"
      },
      "source": [
        "Text to tensor encoders"
      ]
    },
    {
      "cell_type": "code",
      "execution_count": 4,
      "metadata": {
        "id": "4j2E-p4BOOEF"
      },
      "outputs": [],
      "source": [
        "class BasicEncoder:\n",
        "\n",
        "  def __init__(self, text):\n",
        "    self.vocabulary = sorted(set(text))\n",
        "    self.ind_to_token = list(self.vocabulary)\n",
        "    self.ind_to_token.insert(0, \"[UNK]\")\n",
        "    self.token_to_ind = {self.ind_to_token[i] : i for i in range(len(self.ind_to_token))}\n",
        "\n",
        "  def get_size(self):\n",
        "    return len(self.ind_to_token)\n",
        "\n",
        "  def text_to_inds(self, text):\n",
        "    inds = []\n",
        "    for c in text:\n",
        "      if c in self.token_to_ind:\n",
        "        inds.append(self.token_to_ind[c])\n",
        "      else:\n",
        "        inds.append(self.token_to_ind[\"[UNK]\"])\n",
        "    return inds\n",
        "\n",
        "class BytePairEncoder(BasicEncoder):\n",
        "\n",
        "  def __init__(self, text, target_size):\n",
        "    super().__init__(text)\n",
        "    self.__expand_vocabulary(text, target_size)\n",
        "\n",
        "  def __merge_pairs(self, tokens, pair, val):\n",
        "    merged_tokens = []\n",
        "    i = 0\n",
        "    while i < len(tokens):\n",
        "      if tokens[i] == pair[0] and i < len(tokens)-1 and tokens[i+1] == pair[1]:\n",
        "        merged_tokens.append(val)\n",
        "        i += 2\n",
        "      else:\n",
        "        merged_tokens.append(tokens[i])\n",
        "        i += 1\n",
        "    return merged_tokens\n",
        "\n",
        "  def __get_pair_counts(self, tokens):\n",
        "    counts = {}\n",
        "    for i in range(len(tokens)-1):\n",
        "      pair = tokens[i], tokens[i+1]\n",
        "      if pair not in counts:\n",
        "        counts[pair] = 1\n",
        "      else:\n",
        "        counts[pair] += 1\n",
        "    return counts\n",
        "\n",
        "  def __expand_vocabulary(self, text, target_size):\n",
        "    self.merges = {}\n",
        "    tokens = [self.token_to_ind[c] for c in text]\n",
        "    while self.get_size() < target_size:\n",
        "      counts = self.__get_pair_counts(tokens)\n",
        "      best_pair = max(counts, key = counts.get)\n",
        "      new_token = self.ind_to_token[best_pair[0]]+self.ind_to_token[best_pair[1]]\n",
        "      new_val = len(self.ind_to_token)\n",
        "      self.ind_to_token.append(new_token)\n",
        "      self.token_to_ind[new_token] = new_val\n",
        "      self.merges[best_pair] = new_val\n",
        "      tokens = self.__merge_pairs(tokens, best_pair, new_val)\n",
        "\n",
        "  def text_to_inds(self,text):\n",
        "    inds = super().text_to_inds(text)\n",
        "    found_merge = True\n",
        "    while found_merge:\n",
        "      merged_inds = []\n",
        "      found_merge = False\n",
        "      i = 0\n",
        "      while i < len(inds):\n",
        "        if i < len(inds)-1 and (inds[i], inds[i+1]) in self.merges:\n",
        "          merged_inds.append(self.merges[(inds[i], inds[i+1])])\n",
        "          found_merge = True\n",
        "          i += 2\n",
        "        else:\n",
        "          merged_inds.append(inds[i])\n",
        "          i += 1\n",
        "      inds = merged_inds\n",
        "    return inds\n",
        "\n",
        "class WordEncoder(BasicEncoder):\n",
        "\n",
        "  def __init__(self, text):\n",
        "    super().__init__(self.split_text(text))\n",
        "\n",
        "  def text_to_inds(self, text):\n",
        "    text = self.split_text(text)\n",
        "    inds = []\n",
        "    for c in text:\n",
        "      if c in self.token_to_ind:\n",
        "        inds.append(self.token_to_ind[c])\n",
        "      else:\n",
        "        inds.append(self.token_to_ind[\"[UNK]\"])\n",
        "    return inds\n",
        "\n",
        "  def split_text(self, text):\n",
        "    no_spec = re.split(\"(\\&|\\[|\\]|\\n|-| |\\_|!|\\?|\\*|\\.|,|\\(|\\)|;|:|[0-9]+|\\\"|\\')\", text)\n",
        "    return list(filter(lambda a: a != \"\", no_spec))"
      ]
    },
    {
      "cell_type": "markdown",
      "metadata": {
        "id": "22XTx90-DciZ"
      },
      "source": [
        "Word2Vec Embedding"
      ]
    },
    {
      "cell_type": "code",
      "execution_count": 5,
      "metadata": {
        "id": "GS-txsIIVe2c"
      },
      "outputs": [],
      "source": [
        "class Word2Vec(tf.keras.Model):\n",
        "  def __init__(self, K, embedding_dim):\n",
        "    super().__init__()\n",
        "    self.target_embedding = tf.keras.layers.Embedding(K, embedding_dim, name = \"target\")\n",
        "    self.context_embedding = tf.keras.layers.Embedding(K, embedding_dim)\n",
        "\n",
        "  def call(self, pair):\n",
        "    target, context = pair\n",
        "    word_embedding = self.target_embedding(pair[0])\n",
        "    context_embedding = self.context_embedding(pair[1])\n",
        "    return tf.einsum(\"be,bce->bc\", word_embedding, context_embedding)\n",
        "\n",
        "def batch_data_w2v(text, seq_length, encoder, window_size, n_neg_samples, batch_size, buffer_size):\n",
        "  inds = encoder.text_to_inds(text)\n",
        "  sequences = [inds[i:i+seq_length] for i in range(int(len(inds)/seq_length-seq_length))]\n",
        "  targets, contexts, labels = [], [], []\n",
        "  sampling_table = tf.keras.preprocessing.sequence.make_sampling_table(encoder.get_size())\n",
        "  for seq in sequences:\n",
        "    pos_skip_grams, _ = tf.keras.preprocessing.sequence.skipgrams(seq, vocabulary_size = encoder.get_size(), sampling_table = sampling_table, window_size = window_size, negative_samples = 0)\n",
        "    for target, context in pos_skip_grams:\n",
        "      true_context = tf.expand_dims(tf.constant([context], dtype = \"int64\"), 1)\n",
        "      neg_samples, _, _ = tf.random.log_uniform_candidate_sampler(true_classes = true_context, num_true = 1, num_sampled = n_neg_samples, unique = True, range_max = encoder.get_size())\n",
        "      context = tf.concat([tf.squeeze(true_context, 1), neg_samples], 0)\n",
        "      label = tf.constant([1] + [0]*n_neg_samples, dtype = \"int64\")\n",
        "      targets.append(target)\n",
        "      contexts.append(context)\n",
        "      labels.append(label)\n",
        "  examples = tf.data.Dataset.from_tensor_slices(((np.array(targets), np.array(contexts)), np.array(labels)))\n",
        "  batches = examples.shuffle(buffer_size).batch(batch_size, drop_remainder = True).prefetch(tf.data.AUTOTUNE)\n",
        "  return batches\n",
        "\n",
        "def get_w2v_weights(text, seq_length, encoder, embedding_dim, window_size, n_neg_samples, batch_size, buffer_size):\n",
        "  training_data = batch_data_w2v(text, seq_length, encoder, window_size, n_neg_samples, batch_size, buffer_size)\n",
        "  word2vec = Word2Vec(encoder.get_size(), embedding_dim)\n",
        "  word2vec.compile(optimizer = \"adam\", loss = tf.keras.losses.CategoricalCrossentropy(from_logits = True), metrics=[\"accuracy\"])\n",
        "  tensorboard_callback = tf.keras.callbacks.TensorBoard(log_dir = \"logs\")\n",
        "  word2vec.fit(training_data, epochs = 20, callbacks = [tensorboard_callback]) #tensorboard\n",
        "  weights = word2vec.get_layer(\"target\").get_weights()[0]\n",
        "  return weights"
      ]
    },
    {
      "cell_type": "markdown",
      "metadata": {
        "id": "c-VoYe2SDcia"
      },
      "source": [
        "Generate batches from text data"
      ]
    },
    {
      "cell_type": "code",
      "execution_count": 6,
      "metadata": {
        "id": "9SvmYFn09g5D"
      },
      "outputs": [],
      "source": [
        "def batch_data(text, encoder, embedder, seq_length = 0, batch_size = 1, buffer_size = 0):\n",
        "  dataset = tf.data.Dataset.from_tensor_slices(encoder.text_to_inds(text))\n",
        "  if seq_length == 0:\n",
        "    seq_length = dataset.cardinality()-1\n",
        "  sequences = dataset.batch(seq_length+1, drop_remainder = True).map(lambda s : (s[:seq_length], s[1:]))\n",
        "  sequences = sequences.map(lambda x, y: (embedder(x), y))\n",
        "  if buffer_size > 0:\n",
        "    sequences = sequences.shuffle(buffer_size)\n",
        "  batches = sequences.batch(batch_size, drop_remainder = True).prefetch(tf.data.experimental.AUTOTUNE)\n",
        "  return batches"
      ]
    },
    {
      "cell_type": "markdown",
      "metadata": {
        "id": "Z6YDelUqDcib"
      },
      "source": [
        "Models"
      ]
    },
    {
      "cell_type": "code",
      "execution_count": 20,
      "metadata": {
        "id": "BW1AW2EEDcib"
      },
      "outputs": [],
      "source": [
        "class Model:\n",
        "  def __init__(self, encoder, embedder):\n",
        "    self.encoder = encoder\n",
        "    self.embedder = embedder\n",
        "\n",
        "  @tf.function\n",
        "  def loss(self, X, Y, seq_length = 1):\n",
        "    states = self.initial_states\n",
        "    L = 0.0\n",
        "    for t in range(seq_length):\n",
        "      logits, states = self(X[t,:], states)\n",
        "      logits = tf.math.log(tf.nn.softmax(logits))\n",
        "      L -= logits[Y[t]]\n",
        "    return L\n",
        "\n",
        "  def fit(self, batches, val_batches, spelling_dictionary, epochs, learning_rate):\n",
        "    self.optimizer = tf.keras.optimizers.Adagrad(learning_rate = learning_rate, epsilon = 1e-8, clipvalue = 5)\n",
        "    smooth_loss = None\n",
        "    for epoch in range(1, epochs+1):\n",
        "      with alive_bar(int(batches.cardinality().numpy()), force_tty=True) as bar:\n",
        "        for batch in batches:\n",
        "          X_batch, Y_batch = batch\n",
        "          grads_batch = None\n",
        "          n_batch = tf.shape(X_batch)[0].numpy()\n",
        "          seq_length = tf.shape(X_batch)[1].numpy()\n",
        "          for X, Y in zip(X_batch, Y_batch):\n",
        "            if smooth_loss == None:\n",
        "              smooth_loss = self.loss(X, Y, seq_length)\n",
        "            else:\n",
        "              smooth_loss = 0.999*smooth_loss + 0.001*self.loss(X, Y, seq_length)\n",
        "            with tf.GradientTape() as tape:\n",
        "              tape.watch(self.variables)\n",
        "              loss = self.loss(X, Y, seq_length)\n",
        "            grads = tape.gradient(loss, self.variables)\n",
        "            if grads_batch is None:\n",
        "              grads_batch = grads\n",
        "            else:\n",
        "              for i in range(len(grads)):\n",
        "                grads_batch[i] += grads[i]\n",
        "          for i in range(len(grads_batch)):\n",
        "            grads_batch[i] /= n_batch\n",
        "          self.optimizer.apply_gradients(zip(grads_batch, self.variables))\n",
        "          bar()\n",
        "      print(\"\\nEPOCH\", epoch)\n",
        "      print(\"Smooth Loss:\", smooth_loss.numpy())\n",
        "      val_loss = 0\n",
        "      val_count = 0\n",
        "      for val_batch in val_batches:\n",
        "        X_val_batch, Y_val_batch = batch\n",
        "        seq_length_val = tf.shape(X_val_batch)[1].numpy()\n",
        "        for X_val, Y_val in zip(X_val_batch, Y_val_batch):\n",
        "          val_loss = val_loss + self.loss(X_val, Y_val, seq_length_val)\n",
        "          val_count = val_count + 1\n",
        "      print(\"Average validation loss:\", val_loss.numpy()/val_count)\n",
        "      print(\"Validation perplexity:\", tf.math.pow(val_loss/(seq_length_val*val_count), 2).numpy())\n",
        "      text = self.generate_text_temperature('.', 200)\n",
        "      print(\"Text generation correctly spelled:\", correctly_spelled(text, spelling_dictionary))\n",
        "      print(text)\n",
        "\n",
        "  def generate_text_temperature(self, start, length, T = 1.0):\n",
        "    text = []\n",
        "    states = self.initial_states\n",
        "    start = tf.squeeze(self.embedder(np.expand_dims(self.encoder.text_to_inds(start), axis = 0)))\n",
        "    unk_ind = self.encoder.token_to_ind[\"[UNK]\"]\n",
        "    sparse_unk_mask = tf.SparseTensor(values = [-float(\"inf\")], indices = [[unk_ind]], dense_shape=[self.encoder.get_size()])\n",
        "    for i in range(length):\n",
        "      H = states\n",
        "      logits, states = self(start, states)\n",
        "      logits = logits/T\n",
        "      logits = logits + tf.sparse.to_dense(sparse_unk_mask)\n",
        "      pred = tf.random.categorical([logits], num_samples = 1)\n",
        "      start = tf.squeeze(self.embedder(pred))\n",
        "      text.append(self.encoder.ind_to_token[tf.squeeze(pred).numpy()])\n",
        "    return \"\".join(text)\n",
        "\n",
        "  def generate_text_nucleus(self, start, length, theta = 1.0):\n",
        "    text = []\n",
        "    states = self.initial_states\n",
        "    start = tf.squeeze(self.embedder(np.expand_dims(self.encoder.text_to_inds(start), axis = 0)))\n",
        "    unk_ind = self.encoder.token_to_ind[\"[UNK]\"]\n",
        "    sparse_unk_mask = tf.SparseTensor(values = [-float(\"inf\")], indices = [[unk_ind]], dense_shape=[self.encoder.get_size()])\n",
        "    for i in range(length):\n",
        "      logits, states = self(start, states)\n",
        "      logits = logits + tf.sparse.to_dense(sparse_unk_mask)\n",
        "      probs = tf.nn.softmax(logits)\n",
        "      sorted_probs = tf.sort(probs, direction = \"DESCENDING\")\n",
        "      sorted_probs_sum = tf.math.cumsum(sorted_probs)\n",
        "      thresh_inds = tf.where(sorted_probs_sum <= theta)\n",
        "      if len(thresh_inds) > 0:\n",
        "        thresh_ind = thresh_inds[-1, 0].numpy()\n",
        "      else:\n",
        "        thresh_ind = 0\n",
        "      top_probs = tf.multiply(probs, tf.cast(probs >= sorted_probs[thresh_ind], \"float32\"))/sorted_probs_sum[thresh_ind]\n",
        "      pred = tf.random.categorical([tf.math.log(top_probs)], num_samples = 1)\n",
        "      start = tf.squeeze(self.embedder(pred))\n",
        "      text.append(self.encoder.ind_to_token[tf.squeeze(pred).numpy()])\n",
        "    return \"\".join(text)\n",
        "\n",
        "class RNN(Model):\n",
        "  def __init__(self, encoder, embedder, m, sig = 0.01):\n",
        "    super().__init__(encoder, embedder)\n",
        "    self.embedding_dim = embedder.output_dim\n",
        "    self.m = m\n",
        "    self.K = encoder.get_size()\n",
        "    self.b = tf.Variable(tf.zeros_initializer()(shape = (self.m)))\n",
        "    self.c = tf.Variable(tf.zeros_initializer()(shape = (self.K)))\n",
        "    self.U = tf.Variable(tf.random_normal_initializer(mean = 0.0, stddev = sig)(shape = (self.m, self.embedding_dim)))\n",
        "    self.W = tf.Variable(tf.random_normal_initializer(mean = 0.0, stddev = sig)(shape = (self.m, self.m)))\n",
        "    self.V = tf.Variable(tf.random_normal_initializer(mean = 0.0, stddev = sig)(shape = (self.K, self.m)))\n",
        "    self.variables = [self.b, self.c, self.U, self.W, self.V]\n",
        "    self.initial_states = np.zeros(shape = (self.m), dtype = np.float32)\n",
        "\n",
        "  @tf.function\n",
        "  def __call__(self, X, states):\n",
        "    H = states\n",
        "    A = tf.linalg.matvec(self.W, H) + tf.linalg.matvec(self.U, X) + self.b\n",
        "    H = tf.math.tanh(A)\n",
        "    O = tf.linalg.matvec(self.V, H) + self.c\n",
        "    return O, H\n",
        "\n",
        "class LSTM(Model):\n",
        "  def __init__(self, encoder, embedder, m, sig = 0.01):\n",
        "    super().__init__(encoder, embedder)\n",
        "    self.embedding_dim = embedder.output_dim\n",
        "    self.m = m\n",
        "    self.K = encoder.get_size()\n",
        "    self.b = tf.Variable(tf.zeros_initializer()(shape = (4*self.m)))\n",
        "    self.c = tf.Variable(tf.zeros_initializer()(shape = (self.K)))\n",
        "    self.U = tf.Variable(tf.random_normal_initializer(mean = 0.0, stddev = sig)(shape = (4*self.m, self.embedding_dim)))\n",
        "    self.W = tf.Variable(tf.random_normal_initializer(mean = 0.0, stddev = sig)(shape = (4*self.m, self.m)))\n",
        "    self.V = tf.Variable(tf.random_normal_initializer(mean = 0.0, stddev = sig)(shape = (self.K, self.m)))\n",
        "    self.variables = [self.b, self.c, self.U, self.W, self.V]\n",
        "    self.initial_states = [np.zeros(shape = (self.m), dtype = np.float32), np.zeros(shape = (self.m), dtype = np.float32)]\n",
        "\n",
        "  @tf.function\n",
        "  def __call__(self, X, states):\n",
        "    H, C = states\n",
        "    A = tf.linalg.matvec(self.W, H) + tf.linalg.matvec(self.U, X) + self.b\n",
        "    f = tf.math.sigmoid(A[:self.m])\n",
        "    i = tf.math.sigmoid(A[self.m:2*self.m])\n",
        "    o = tf.math.sigmoid(A[2*self.m:3*self.m])\n",
        "    c_tilde = tf.math.tanh(A[3*self.m:])\n",
        "    C = tf.math.multiply(f, C) + tf.math.multiply(i, c_tilde)\n",
        "    H = tf.math.multiply(o, tf.math.tanh(C))\n",
        "    O = tf.linalg.matvec(self.V, H) + self.c\n",
        "    return O, [H, C]\n",
        "\n",
        "class LSTM2(Model):\n",
        "  def __init__(self, encoder, embedder, m, sig = 0.01):\n",
        "    super().__init__(encoder, embedder)\n",
        "    self.embedding_dim = embedder.output_dim\n",
        "    self.m = m\n",
        "    self.K = encoder.get_size()\n",
        "    self.b1 = tf.Variable(tf.zeros_initializer()(shape = (4*self.m)))\n",
        "    self.b2 = tf.Variable(tf.zeros_initializer()(shape = (4*self.m)))\n",
        "    self.c = tf.Variable(tf.zeros_initializer()(shape = (self.K)))\n",
        "    self.U1 = tf.Variable(tf.random_normal_initializer(mean = 0.0, stddev = sig)(shape = (4*self.m, self.embedding_dim)))\n",
        "    self.W1 = tf.Variable(tf.random_normal_initializer(mean = 0.0, stddev = sig)(shape = (4*self.m, self.m)))\n",
        "    self.U2 = tf.Variable(tf.random_normal_initializer(mean = 0.0, stddev = sig)(shape = (4*self.m, self.m)))\n",
        "    self.W2 = tf.Variable(tf.random_normal_initializer(mean = 0.0, stddev = sig)(shape = (4*self.m, self.m)))\n",
        "    self.V = tf.Variable(tf.random_normal_initializer(mean = 0.0, stddev = sig)(shape = (self.K, self.m)))\n",
        "    self.variables = [self.b1, self.b2, self.c, self.U1, self.U2, self.W1, self.W2, self.V]\n",
        "    self.initial_states = [[np.zeros(shape = (self.m), dtype = np.float32), np.zeros(shape = (self.m), dtype = np.float32)], [np.zeros(shape = (self.m), dtype = np.float32), np.zeros(shape = (self.m), dtype = np.float32)]]\n",
        "\n",
        "  @tf.function\n",
        "  def __call__(self, X, states):\n",
        "    [H1, C1], [H2, C2] = states\n",
        "    A1 = tf.linalg.matvec(self.W1, H1) + tf.linalg.matvec(self.U1, X) + self.b1\n",
        "    f1 = tf.math.sigmoid(A1[:self.m])\n",
        "    i1 = tf.math.sigmoid(A1[self.m:2*self.m])\n",
        "    o1 = tf.math.sigmoid(A1[2*self.m:3*self.m])\n",
        "    c_tilde1 = tf.math.tanh(A1[3*self.m:])\n",
        "    C1 = tf.math.multiply(f1, C1) + tf.math.multiply(i1, c_tilde1)\n",
        "    H1 = tf.math.multiply(o1, tf.math.tanh(C1))\n",
        "    A2 = tf.linalg.matvec(self.W2, H2) + tf.linalg.matvec(self.U2, H1) + self.b2\n",
        "    f2 = tf.math.sigmoid(A2[:self.m])\n",
        "    i2 = tf.math.sigmoid(A2[self.m:2*self.m])\n",
        "    o2 = tf.math.sigmoid(A2[2*self.m:3*self.m])\n",
        "    c_tilde2 = tf.math.tanh(A2[3*self.m:])\n",
        "    C2 = tf.math.multiply(f2, C2) + tf.math.multiply(i1, c_tilde2)\n",
        "    H2 = tf.math.multiply(o2, tf.math.tanh(C2))\n",
        "    O = tf.linalg.matvec(self.V, H2) + self.c\n",
        "    return O, [[H1, C1], [H2, C2]]"
      ]
    },
    {
      "cell_type": "markdown",
      "metadata": {
        "id": "c0iSGXTUDcic"
      },
      "source": [
        "Dictionary of known words"
      ]
    },
    {
      "cell_type": "code",
      "execution_count": 8,
      "metadata": {
        "id": "Vm-tXKuC7MTN"
      },
      "outputs": [],
      "source": [
        "def clean_text(text):\n",
        "  lower = text.lower()\n",
        "  no_spec = re.sub(\"\\&|\\[|\\]|\\_|!|\\?|\\*|\\.|,|\\(|\\)|;|:|[0-9]+|\\\"|\\'\",\"\", lower)\n",
        "  no_enter = re.sub(\"\\n|-\",\" \", no_spec)\n",
        "  return no_enter.split()\n",
        "\n",
        "def get_dictionary(text):\n",
        "  dictionary = {w for w in clean_text(text)}\n",
        "  return dictionary\n",
        "\n",
        "def correctly_spelled(text, dictionary):\n",
        "  count = 0\n",
        "  words = clean_text(text)\n",
        "  for w in clean_text(text):\n",
        "    if w in dictionary:\n",
        "      count += 1\n",
        "  return count/len(words)"
      ]
    },
    {
      "cell_type": "markdown",
      "source": [
        "Full batching and training loop"
      ],
      "metadata": {
        "id": "DtZOTTGPvnw6"
      }
    },
    {
      "cell_type": "code",
      "execution_count": 9,
      "metadata": {
        "id": "SlS6ITj4PQeO"
      },
      "outputs": [],
      "source": [
        "def batch_and_train(model, encoder, embedder, spelling_dictionary, training_text, validation_text, seq_length, batch_size, buffer_size, epochs, learning_rate):\n",
        "    configs = dict(\n",
        "        seq_length = seq_length,\n",
        "        batch_size = batch_size,\n",
        "        buffer_size = buffer_size,\n",
        "        K = encoder.get_size(),\n",
        "        m = model.m,\n",
        "        epochs = epochs,\n",
        "        learning_rate = learning_rate,\n",
        "    )\n",
        "    training_batches = batch_data(training_text, encoder, embedder, configs[\"seq_length\"], configs[\"batch_size\"], configs[\"buffer_size\"])\n",
        "    validation_batches = batch_data(validation_text, encoder, embedder)\n",
        "    \"\"\"wandb.init(\n",
        "            project = \"ProjectDD2424\",\n",
        "            config = configs)\n",
        "    config = wandb.config\"\"\"\n",
        "    model.fit(training_batches, validation_batches, spelling_dictionary, configs[\"epochs\"], configs[\"learning_rate\"])"
      ]
    },
    {
      "cell_type": "markdown",
      "source": [
        "Experiments"
      ],
      "metadata": {
        "id": "6T7843Liwwgi"
      }
    },
    {
      "cell_type": "code",
      "execution_count": 10,
      "metadata": {
        "colab": {
          "base_uri": "https://localhost:8080/"
        },
        "id": "haY4WnUWDcid",
        "outputId": "4ebf4cbd-2ca5-4687-d77f-1b98eadba95c"
      },
      "outputs": [
        {
          "output_type": "stream",
          "name": "stdout",
          "text": [
            "Downloading data from https://www.gutenberg.org/cache/epub/31100/pg31100.txt\n",
            "4454279/4454279 [==============================] - 0s 0us/step\n",
            "4373619\n"
          ]
        }
      ],
      "source": [
        "books = fetch_data()\n",
        "\n",
        "training_text = books[0] #+ books[1] + books[2] + books[3] + books[4] + books[5]\n",
        "validation_text = books[6]\n",
        "test_text = books[7]\n",
        "\n",
        "basic_encoder = BasicEncoder(training_text)\n",
        "#byte_pair_encoder = BytePairEncoder(training_text, 200)\n",
        "#word_encoder = WordEncoder(training_text)\n",
        "\n",
        "basic_embedder = tf.keras.layers.Embedding(basic_encoder.get_size(), basic_encoder.get_size(), embeddings_initializer = \"identity\")\n",
        "#byte_pair_embedder = tf.keras.layers.Embedding(byte_pair_encoder.get_size(), byte_pair_encoder.get_size(), embeddings_initializer = \"identity\")\n",
        "#w2v_seq_length = 10\n",
        "#w2v_embedding_dim = 128\n",
        "#w2v_weights = get_w2v_weights(training_text, w2v_seq_length, word_encoder, w2v_embedding_dim, window_size = 2, n_neg_samples = 4, batch_size = 1024, buffer_size = 10000)\n",
        "#word_embedder = tf.keras.layers.Embedding(word_encoder.get_size(), w2v_embedding_dim, weights = [w2v_weights], trainable = False)\n",
        "\n",
        "spelling_dictionary = get_dictionary(training_text)"
      ]
    },
    {
      "cell_type": "code",
      "source": [
        "encoder = basic_encoder\n",
        "embedder = basic_embedder\n",
        "model = RNN(encoder, embedder, 100)\n",
        "batch_and_train(model, encoder, embedder, spelling_dictionary, training_text, validation_text[:1000], 100, 64, 10000, 20, 0.1)"
      ],
      "metadata": {
        "colab": {
          "base_uri": "https://localhost:8080/",
          "height": 1000
        },
        "id": "T2eSVC9DqBPk",
        "outputId": "0711a7ab-b44a-410e-8f46-0cf618b026fd"
      },
      "execution_count": 21,
      "outputs": [
        {
          "output_type": "stream",
          "name": "stdout",
          "text": [
            "|████████████████████████████████████████| 72/72 [100%] in 3:22.1 (0.36/s)      \n",
            "\n",
            "EPOCH 1\n",
            "Smooth Loss: 327.76834\n",
            "Average validation loss: 313.078125\n",
            "Validation perplexity: 9.801791\n",
            "Text generation correctly spelled: 0.05555555555555555\n",
            "tanneniobieoaoypt d etiuaheotnMedoorngergeeco t itie  teftehoo,snt ebmgiag yktW\n",
            " Ird i\n",
            "gttfstaaspeitinjldaleil ouyfesbrtn easmifieereegttme ytbstd  Soh\n",
            "rsd ,vamtoeyiabdmostrtenteCgcostrterS, gwebaritm\n",
            "|████████████████████████████████████████| 72/72 [100%] in 3:10.5 (0.38/s)      \n",
            "\n",
            "EPOCH 2\n",
            "Smooth Loss: 311.0497\n",
            "Average validation loss: 309.8196105957031\n",
            "Validation perplexity: 9.598819\n",
            "Text generation correctly spelled: 0.14814814814814814\n",
            "ct.el tctaews\n",
            "edt dr, d olele fheesr  yiem a  lr;nt pncrk,t oieheoseot lit;eovucee nohe ht\n",
            " ee onr ohr on l vmlw ttsrot,ypnioawliehgdoidseaeeno drrmkefgtlerhnzHeltnhlnlmnt.rh\n",
            "h asidtnfotblne  anoWoy e\n",
            "|████████████████████████████████████████| 72/72 [100%] in 3:12.0 (0.37/s)      \n",
            "\n",
            "EPOCH 3\n",
            "Smooth Loss: 301.594\n",
            "Average validation loss: 296.33770751953125\n",
            "Validation perplexity: 8.781603\n",
            "Text generation correctly spelled: 0.05555555555555555\n",
            "Aotdsd  amlopd oul msab n . H mend othirohuh ah hatirota.Tfl divnh vrta,l\n",
            "han eht tae sh pcta oreefsptl aiouo pn l ownndefhewt, con \n",
            "aaaongagei hd wusonmote-arv aotn unsflemhu oie ho g\n",
            "gtt uuhh l  hoa\n",
            "|████████████████████████████████████████| 72/72 [100%] in 3:09.8 (0.38/s)      \n",
            "\n",
            "EPOCH 4\n",
            "Smooth Loss: 285.23682\n",
            "Average validation loss: 278.55731201171875\n",
            "Validation perplexity: 7.759417\n",
            "Text generation correctly spelled: 0.0851063829787234\n",
            "fe wa\n",
            "ar toiueeo geor b o c g-eretee\n",
            "sal nua Bire be.  Tt d ch tu vas\n",
            "g\"deee s ta r d ed wy ne s ifu wse, d snin foret fo  atotpduro Lhans,or f yo ceer gotsu uyio irrineSewddinBse\"u nm a rd ariaAsl de\n",
            "|▌⚠︎                                      | (!) 1/72 [1%] in 5.8s (0.19/s)       \n"
          ]
        },
        {
          "output_type": "error",
          "ename": "KeyboardInterrupt",
          "evalue": "",
          "traceback": [
            "\u001b[0;31m---------------------------------------------------------------------------\u001b[0m",
            "\u001b[0;31mKeyboardInterrupt\u001b[0m                         Traceback (most recent call last)",
            "\u001b[0;32m<ipython-input-21-7ea04381e1c9>\u001b[0m in \u001b[0;36m<cell line: 4>\u001b[0;34m()\u001b[0m\n\u001b[1;32m      2\u001b[0m \u001b[0membedder\u001b[0m \u001b[0;34m=\u001b[0m \u001b[0mbasic_embedder\u001b[0m\u001b[0;34m\u001b[0m\u001b[0;34m\u001b[0m\u001b[0m\n\u001b[1;32m      3\u001b[0m \u001b[0mmodel\u001b[0m \u001b[0;34m=\u001b[0m \u001b[0mRNN\u001b[0m\u001b[0;34m(\u001b[0m\u001b[0mencoder\u001b[0m\u001b[0;34m,\u001b[0m \u001b[0membedder\u001b[0m\u001b[0;34m,\u001b[0m \u001b[0;36m100\u001b[0m\u001b[0;34m)\u001b[0m\u001b[0;34m\u001b[0m\u001b[0;34m\u001b[0m\u001b[0m\n\u001b[0;32m----> 4\u001b[0;31m \u001b[0mbatch_and_train\u001b[0m\u001b[0;34m(\u001b[0m\u001b[0mmodel\u001b[0m\u001b[0;34m,\u001b[0m \u001b[0mencoder\u001b[0m\u001b[0;34m,\u001b[0m \u001b[0membedder\u001b[0m\u001b[0;34m,\u001b[0m \u001b[0mspelling_dictionary\u001b[0m\u001b[0;34m,\u001b[0m \u001b[0mtraining_text\u001b[0m\u001b[0;34m,\u001b[0m \u001b[0mvalidation_text\u001b[0m\u001b[0;34m[\u001b[0m\u001b[0;34m:\u001b[0m\u001b[0;36m1000\u001b[0m\u001b[0;34m]\u001b[0m\u001b[0;34m,\u001b[0m \u001b[0;36m100\u001b[0m\u001b[0;34m,\u001b[0m \u001b[0;36m64\u001b[0m\u001b[0;34m,\u001b[0m \u001b[0;36m10000\u001b[0m\u001b[0;34m,\u001b[0m \u001b[0;36m20\u001b[0m\u001b[0;34m,\u001b[0m \u001b[0;36m0.1\u001b[0m\u001b[0;34m)\u001b[0m\u001b[0;34m\u001b[0m\u001b[0;34m\u001b[0m\u001b[0m\n\u001b[0m",
            "\u001b[0;32m<ipython-input-9-fdb02f1aec58>\u001b[0m in \u001b[0;36mbatch_and_train\u001b[0;34m(model, encoder, embedder, spelling_dictionary, training_text, validation_text, seq_length, batch_size, buffer_size, epochs, learning_rate)\u001b[0m\n\u001b[1;32m     15\u001b[0m             config = configs)\n\u001b[1;32m     16\u001b[0m     config = wandb.config\"\"\"\n\u001b[0;32m---> 17\u001b[0;31m     \u001b[0mmodel\u001b[0m\u001b[0;34m.\u001b[0m\u001b[0mfit\u001b[0m\u001b[0;34m(\u001b[0m\u001b[0mtraining_batches\u001b[0m\u001b[0;34m,\u001b[0m \u001b[0mvalidation_batches\u001b[0m\u001b[0;34m,\u001b[0m \u001b[0mspelling_dictionary\u001b[0m\u001b[0;34m,\u001b[0m \u001b[0mconfigs\u001b[0m\u001b[0;34m[\u001b[0m\u001b[0;34m\"epochs\"\u001b[0m\u001b[0;34m]\u001b[0m\u001b[0;34m,\u001b[0m \u001b[0mconfigs\u001b[0m\u001b[0;34m[\u001b[0m\u001b[0;34m\"learning_rate\"\u001b[0m\u001b[0;34m]\u001b[0m\u001b[0;34m)\u001b[0m\u001b[0;34m\u001b[0m\u001b[0;34m\u001b[0m\u001b[0m\n\u001b[0m",
            "\u001b[0;32m<ipython-input-20-e6fc2b89d787>\u001b[0m in \u001b[0;36mfit\u001b[0;34m(self, batches, val_batches, spelling_dictionary, epochs, learning_rate)\u001b[0m\n\u001b[1;32m     31\u001b[0m             \u001b[0;32mwith\u001b[0m \u001b[0mtf\u001b[0m\u001b[0;34m.\u001b[0m\u001b[0mGradientTape\u001b[0m\u001b[0;34m(\u001b[0m\u001b[0;34m)\u001b[0m \u001b[0;32mas\u001b[0m \u001b[0mtape\u001b[0m\u001b[0;34m:\u001b[0m\u001b[0;34m\u001b[0m\u001b[0;34m\u001b[0m\u001b[0m\n\u001b[1;32m     32\u001b[0m               \u001b[0mtape\u001b[0m\u001b[0;34m.\u001b[0m\u001b[0mwatch\u001b[0m\u001b[0;34m(\u001b[0m\u001b[0mself\u001b[0m\u001b[0;34m.\u001b[0m\u001b[0mvariables\u001b[0m\u001b[0;34m)\u001b[0m\u001b[0;34m\u001b[0m\u001b[0;34m\u001b[0m\u001b[0m\n\u001b[0;32m---> 33\u001b[0;31m               \u001b[0mloss\u001b[0m \u001b[0;34m=\u001b[0m \u001b[0mself\u001b[0m\u001b[0;34m.\u001b[0m\u001b[0mloss\u001b[0m\u001b[0;34m(\u001b[0m\u001b[0mX\u001b[0m\u001b[0;34m,\u001b[0m \u001b[0mY\u001b[0m\u001b[0;34m,\u001b[0m \u001b[0mseq_length\u001b[0m\u001b[0;34m)\u001b[0m\u001b[0;34m\u001b[0m\u001b[0;34m\u001b[0m\u001b[0m\n\u001b[0m\u001b[1;32m     34\u001b[0m             \u001b[0mgrads\u001b[0m \u001b[0;34m=\u001b[0m \u001b[0mtape\u001b[0m\u001b[0;34m.\u001b[0m\u001b[0mgradient\u001b[0m\u001b[0;34m(\u001b[0m\u001b[0mloss\u001b[0m\u001b[0;34m,\u001b[0m \u001b[0mself\u001b[0m\u001b[0;34m.\u001b[0m\u001b[0mvariables\u001b[0m\u001b[0;34m)\u001b[0m\u001b[0;34m\u001b[0m\u001b[0;34m\u001b[0m\u001b[0m\n\u001b[1;32m     35\u001b[0m             \u001b[0;32mif\u001b[0m \u001b[0mgrads_batch\u001b[0m \u001b[0;32mis\u001b[0m \u001b[0;32mNone\u001b[0m\u001b[0;34m:\u001b[0m\u001b[0;34m\u001b[0m\u001b[0;34m\u001b[0m\u001b[0m\n",
            "\u001b[0;32m/usr/local/lib/python3.10/dist-packages/tensorflow/python/util/traceback_utils.py\u001b[0m in \u001b[0;36merror_handler\u001b[0;34m(*args, **kwargs)\u001b[0m\n\u001b[1;32m    148\u001b[0m     \u001b[0mfiltered_tb\u001b[0m \u001b[0;34m=\u001b[0m \u001b[0;32mNone\u001b[0m\u001b[0;34m\u001b[0m\u001b[0;34m\u001b[0m\u001b[0m\n\u001b[1;32m    149\u001b[0m     \u001b[0;32mtry\u001b[0m\u001b[0;34m:\u001b[0m\u001b[0;34m\u001b[0m\u001b[0;34m\u001b[0m\u001b[0m\n\u001b[0;32m--> 150\u001b[0;31m       \u001b[0;32mreturn\u001b[0m \u001b[0mfn\u001b[0m\u001b[0;34m(\u001b[0m\u001b[0;34m*\u001b[0m\u001b[0margs\u001b[0m\u001b[0;34m,\u001b[0m \u001b[0;34m**\u001b[0m\u001b[0mkwargs\u001b[0m\u001b[0;34m)\u001b[0m\u001b[0;34m\u001b[0m\u001b[0;34m\u001b[0m\u001b[0m\n\u001b[0m\u001b[1;32m    151\u001b[0m     \u001b[0;32mexcept\u001b[0m \u001b[0mException\u001b[0m \u001b[0;32mas\u001b[0m \u001b[0me\u001b[0m\u001b[0;34m:\u001b[0m\u001b[0;34m\u001b[0m\u001b[0;34m\u001b[0m\u001b[0m\n\u001b[1;32m    152\u001b[0m       \u001b[0mfiltered_tb\u001b[0m \u001b[0;34m=\u001b[0m \u001b[0m_process_traceback_frames\u001b[0m\u001b[0;34m(\u001b[0m\u001b[0me\u001b[0m\u001b[0;34m.\u001b[0m\u001b[0m__traceback__\u001b[0m\u001b[0;34m)\u001b[0m\u001b[0;34m\u001b[0m\u001b[0;34m\u001b[0m\u001b[0m\n",
            "\u001b[0;32m/usr/local/lib/python3.10/dist-packages/tensorflow/python/eager/polymorphic_function/polymorphic_function.py\u001b[0m in \u001b[0;36m__call__\u001b[0;34m(self, *args, **kwds)\u001b[0m\n\u001b[1;32m    830\u001b[0m \u001b[0;34m\u001b[0m\u001b[0m\n\u001b[1;32m    831\u001b[0m       \u001b[0;32mwith\u001b[0m \u001b[0mOptionalXlaContext\u001b[0m\u001b[0;34m(\u001b[0m\u001b[0mself\u001b[0m\u001b[0;34m.\u001b[0m\u001b[0m_jit_compile\u001b[0m\u001b[0;34m)\u001b[0m\u001b[0;34m:\u001b[0m\u001b[0;34m\u001b[0m\u001b[0;34m\u001b[0m\u001b[0m\n\u001b[0;32m--> 832\u001b[0;31m         \u001b[0mresult\u001b[0m \u001b[0;34m=\u001b[0m \u001b[0mself\u001b[0m\u001b[0;34m.\u001b[0m\u001b[0m_call\u001b[0m\u001b[0;34m(\u001b[0m\u001b[0;34m*\u001b[0m\u001b[0margs\u001b[0m\u001b[0;34m,\u001b[0m \u001b[0;34m**\u001b[0m\u001b[0mkwds\u001b[0m\u001b[0;34m)\u001b[0m\u001b[0;34m\u001b[0m\u001b[0;34m\u001b[0m\u001b[0m\n\u001b[0m\u001b[1;32m    833\u001b[0m \u001b[0;34m\u001b[0m\u001b[0m\n\u001b[1;32m    834\u001b[0m       \u001b[0mnew_tracing_count\u001b[0m \u001b[0;34m=\u001b[0m \u001b[0mself\u001b[0m\u001b[0;34m.\u001b[0m\u001b[0mexperimental_get_tracing_count\u001b[0m\u001b[0;34m(\u001b[0m\u001b[0;34m)\u001b[0m\u001b[0;34m\u001b[0m\u001b[0;34m\u001b[0m\u001b[0m\n",
            "\u001b[0;32m/usr/local/lib/python3.10/dist-packages/tensorflow/python/eager/polymorphic_function/polymorphic_function.py\u001b[0m in \u001b[0;36m_call\u001b[0;34m(self, *args, **kwds)\u001b[0m\n\u001b[1;32m    875\u001b[0m       \u001b[0;31m# In this case we have not created variables on the first call. So we can\u001b[0m\u001b[0;34m\u001b[0m\u001b[0;34m\u001b[0m\u001b[0m\n\u001b[1;32m    876\u001b[0m       \u001b[0;31m# run the first trace but we should fail if variables are created.\u001b[0m\u001b[0;34m\u001b[0m\u001b[0;34m\u001b[0m\u001b[0m\n\u001b[0;32m--> 877\u001b[0;31m       results = tracing_compilation.call_function(\n\u001b[0m\u001b[1;32m    878\u001b[0m           \u001b[0margs\u001b[0m\u001b[0;34m,\u001b[0m \u001b[0mkwds\u001b[0m\u001b[0;34m,\u001b[0m \u001b[0mself\u001b[0m\u001b[0;34m.\u001b[0m\u001b[0m_variable_creation_config\u001b[0m\u001b[0;34m\u001b[0m\u001b[0;34m\u001b[0m\u001b[0m\n\u001b[1;32m    879\u001b[0m       )\n",
            "\u001b[0;32m/usr/local/lib/python3.10/dist-packages/tensorflow/python/eager/polymorphic_function/tracing_compilation.py\u001b[0m in \u001b[0;36mcall_function\u001b[0;34m(args, kwargs, tracing_options)\u001b[0m\n\u001b[1;32m    137\u001b[0m   \u001b[0mbound_args\u001b[0m \u001b[0;34m=\u001b[0m \u001b[0mfunction\u001b[0m\u001b[0;34m.\u001b[0m\u001b[0mfunction_type\u001b[0m\u001b[0;34m.\u001b[0m\u001b[0mbind\u001b[0m\u001b[0;34m(\u001b[0m\u001b[0;34m*\u001b[0m\u001b[0margs\u001b[0m\u001b[0;34m,\u001b[0m \u001b[0;34m**\u001b[0m\u001b[0mkwargs\u001b[0m\u001b[0;34m)\u001b[0m\u001b[0;34m\u001b[0m\u001b[0;34m\u001b[0m\u001b[0m\n\u001b[1;32m    138\u001b[0m   \u001b[0mflat_inputs\u001b[0m \u001b[0;34m=\u001b[0m \u001b[0mfunction\u001b[0m\u001b[0;34m.\u001b[0m\u001b[0mfunction_type\u001b[0m\u001b[0;34m.\u001b[0m\u001b[0munpack_inputs\u001b[0m\u001b[0;34m(\u001b[0m\u001b[0mbound_args\u001b[0m\u001b[0;34m)\u001b[0m\u001b[0;34m\u001b[0m\u001b[0;34m\u001b[0m\u001b[0m\n\u001b[0;32m--> 139\u001b[0;31m   return function._call_flat(  # pylint: disable=protected-access\n\u001b[0m\u001b[1;32m    140\u001b[0m       \u001b[0mflat_inputs\u001b[0m\u001b[0;34m,\u001b[0m \u001b[0mcaptured_inputs\u001b[0m\u001b[0;34m=\u001b[0m\u001b[0mfunction\u001b[0m\u001b[0;34m.\u001b[0m\u001b[0mcaptured_inputs\u001b[0m\u001b[0;34m\u001b[0m\u001b[0;34m\u001b[0m\u001b[0m\n\u001b[1;32m    141\u001b[0m   )\n",
            "\u001b[0;32m/usr/local/lib/python3.10/dist-packages/tensorflow/python/eager/polymorphic_function/concrete_function.py\u001b[0m in \u001b[0;36m_call_flat\u001b[0;34m(self, tensor_inputs, captured_inputs)\u001b[0m\n\u001b[1;32m   1334\u001b[0m            \"StatefulPartitionedCall\": self._get_gradient_function()}):\n\u001b[1;32m   1335\u001b[0m         \u001b[0mflat_outputs\u001b[0m \u001b[0;34m=\u001b[0m \u001b[0mforward_function\u001b[0m\u001b[0;34m.\u001b[0m\u001b[0mcall_flat\u001b[0m\u001b[0;34m(\u001b[0m\u001b[0;34m*\u001b[0m\u001b[0margs_with_tangents\u001b[0m\u001b[0;34m)\u001b[0m\u001b[0;34m\u001b[0m\u001b[0;34m\u001b[0m\u001b[0m\n\u001b[0;32m-> 1336\u001b[0;31m     \u001b[0mforward_backward\u001b[0m\u001b[0;34m.\u001b[0m\u001b[0mrecord\u001b[0m\u001b[0;34m(\u001b[0m\u001b[0mflat_outputs\u001b[0m\u001b[0;34m)\u001b[0m\u001b[0;34m\u001b[0m\u001b[0;34m\u001b[0m\u001b[0m\n\u001b[0m\u001b[1;32m   1337\u001b[0m     \u001b[0;32mreturn\u001b[0m \u001b[0mself\u001b[0m\u001b[0;34m.\u001b[0m\u001b[0mfunction_type\u001b[0m\u001b[0;34m.\u001b[0m\u001b[0mpack_output\u001b[0m\u001b[0;34m(\u001b[0m\u001b[0mflat_outputs\u001b[0m\u001b[0;34m)\u001b[0m\u001b[0;34m\u001b[0m\u001b[0;34m\u001b[0m\u001b[0m\n\u001b[1;32m   1338\u001b[0m \u001b[0;34m\u001b[0m\u001b[0m\n",
            "\u001b[0;32m/usr/local/lib/python3.10/dist-packages/tensorflow/python/eager/polymorphic_function/concrete_function.py\u001b[0m in \u001b[0;36mrecord\u001b[0;34m(self, flat_outputs)\u001b[0m\n\u001b[1;32m   1012\u001b[0m       \u001b[0;31m# We only record function calls which have outputs, and then only when a\u001b[0m\u001b[0;34m\u001b[0m\u001b[0;34m\u001b[0m\u001b[0m\n\u001b[1;32m   1013\u001b[0m       \u001b[0;31m# tape is watching.\u001b[0m\u001b[0;34m\u001b[0m\u001b[0;34m\u001b[0m\u001b[0m\n\u001b[0;32m-> 1014\u001b[0;31m       self._functions.record(\n\u001b[0m\u001b[1;32m   1015\u001b[0m           \u001b[0mflat_outputs\u001b[0m\u001b[0;34m,\u001b[0m \u001b[0mself\u001b[0m\u001b[0;34m.\u001b[0m\u001b[0m_inference_args\u001b[0m\u001b[0;34m,\u001b[0m \u001b[0mself\u001b[0m\u001b[0;34m.\u001b[0m\u001b[0m_input_tangents\u001b[0m\u001b[0;34m\u001b[0m\u001b[0;34m\u001b[0m\u001b[0m\n\u001b[1;32m   1016\u001b[0m       )\n",
            "\u001b[0;32m/usr/local/lib/python3.10/dist-packages/tensorflow/python/eager/polymorphic_function/concrete_function.py\u001b[0m in \u001b[0;36mrecord\u001b[0;34m(self, flat_outputs, inference_args, input_tangents)\u001b[0m\n\u001b[1;32m    806\u001b[0m         \u001b[0moperation\u001b[0m\u001b[0;34m.\u001b[0m\u001b[0;34m\u001b[0m\u001b[0;34m\u001b[0m\u001b[0m\n\u001b[1;32m    807\u001b[0m     \"\"\"\n\u001b[0;32m--> 808\u001b[0;31m     backward_function, to_record = self._wrap_backward_function(\n\u001b[0m\u001b[1;32m    809\u001b[0m         \u001b[0mself\u001b[0m\u001b[0;34m.\u001b[0m\u001b[0m_forward_graph\u001b[0m\u001b[0;34m,\u001b[0m \u001b[0mself\u001b[0m\u001b[0;34m.\u001b[0m\u001b[0m_backward\u001b[0m\u001b[0;34m,\u001b[0m \u001b[0mflat_outputs\u001b[0m\u001b[0;34m\u001b[0m\u001b[0;34m\u001b[0m\u001b[0m\n\u001b[1;32m    810\u001b[0m     )\n",
            "\u001b[0;32m/usr/local/lib/python3.10/dist-packages/tensorflow/python/eager/polymorphic_function/concrete_function.py\u001b[0m in \u001b[0;36m_wrap_backward_function\u001b[0;34m(self, forward_graph, backward, outputs)\u001b[0m\n\u001b[1;32m    754\u001b[0m         \u001b[0mskip_positions\u001b[0m\u001b[0;34m.\u001b[0m\u001b[0mappend\u001b[0m\u001b[0;34m(\u001b[0m\u001b[0moutput_index\u001b[0m\u001b[0;34m)\u001b[0m\u001b[0;34m\u001b[0m\u001b[0;34m\u001b[0m\u001b[0m\n\u001b[1;32m    755\u001b[0m       \u001b[0;32mif\u001b[0m \u001b[0moutput\u001b[0m\u001b[0;34m.\u001b[0m\u001b[0mdtype\u001b[0m \u001b[0;34m==\u001b[0m \u001b[0mdtypes\u001b[0m\u001b[0;34m.\u001b[0m\u001b[0mvariant\u001b[0m\u001b[0;34m:\u001b[0m\u001b[0;34m\u001b[0m\u001b[0;34m\u001b[0m\u001b[0m\n\u001b[0;32m--> 756\u001b[0;31m         \u001b[0mvariant_zeros_like\u001b[0m\u001b[0;34m[\u001b[0m\u001b[0moutput_index\u001b[0m\u001b[0;34m]\u001b[0m \u001b[0;34m=\u001b[0m \u001b[0mdefault_gradient\u001b[0m\u001b[0;34m.\u001b[0m\u001b[0mzeros_like\u001b[0m\u001b[0;34m(\u001b[0m\u001b[0moutput\u001b[0m\u001b[0;34m)\u001b[0m\u001b[0;34m\u001b[0m\u001b[0;34m\u001b[0m\u001b[0m\n\u001b[0m\u001b[1;32m    757\u001b[0m \u001b[0;34m\u001b[0m\u001b[0m\n\u001b[1;32m    758\u001b[0m     \u001b[0;32mdef\u001b[0m \u001b[0m_backward_function_wrapper\u001b[0m\u001b[0;34m(\u001b[0m\u001b[0;34m*\u001b[0m\u001b[0margs\u001b[0m\u001b[0;34m)\u001b[0m\u001b[0;34m:\u001b[0m\u001b[0;34m\u001b[0m\u001b[0;34m\u001b[0m\u001b[0m\n",
            "\u001b[0;32m/usr/local/lib/python3.10/dist-packages/tensorflow/python/ops/default_gradient.py\u001b[0m in \u001b[0;36mzeros_like\u001b[0;34m(t)\u001b[0m\n\u001b[1;32m     51\u001b[0m     \u001b[0;32mreturn\u001b[0m \u001b[0marray_ops\u001b[0m\u001b[0;34m.\u001b[0m\u001b[0mzeros\u001b[0m\u001b[0;34m(\u001b[0m\u001b[0;34m*\u001b[0m\u001b[0mshape_and_dtype\u001b[0m\u001b[0;34m(\u001b[0m\u001b[0mt\u001b[0m\u001b[0;34m)\u001b[0m\u001b[0;34m)\u001b[0m\u001b[0;34m\u001b[0m\u001b[0;34m\u001b[0m\u001b[0m\n\u001b[1;32m     52\u001b[0m   \u001b[0;32melse\u001b[0m\u001b[0;34m:\u001b[0m\u001b[0;34m\u001b[0m\u001b[0;34m\u001b[0m\u001b[0m\n\u001b[0;32m---> 53\u001b[0;31m     \u001b[0;32mreturn\u001b[0m \u001b[0marray_ops\u001b[0m\u001b[0;34m.\u001b[0m\u001b[0mzeros_like\u001b[0m\u001b[0;34m(\u001b[0m\u001b[0mt\u001b[0m\u001b[0;34m)\u001b[0m\u001b[0;34m\u001b[0m\u001b[0;34m\u001b[0m\u001b[0m\n\u001b[0m\u001b[1;32m     54\u001b[0m \u001b[0;34m\u001b[0m\u001b[0m\n\u001b[1;32m     55\u001b[0m \u001b[0;34m\u001b[0m\u001b[0m\n",
            "\u001b[0;32m/usr/local/lib/python3.10/dist-packages/tensorflow/python/ops/weak_tensor_ops.py\u001b[0m in \u001b[0;36mwrapper\u001b[0;34m(*args, **kwargs)\u001b[0m\n\u001b[1;32m     86\u001b[0m   \u001b[0;32mdef\u001b[0m \u001b[0mwrapper\u001b[0m\u001b[0;34m(\u001b[0m\u001b[0;34m*\u001b[0m\u001b[0margs\u001b[0m\u001b[0;34m,\u001b[0m \u001b[0;34m**\u001b[0m\u001b[0mkwargs\u001b[0m\u001b[0;34m)\u001b[0m\u001b[0;34m:\u001b[0m\u001b[0;34m\u001b[0m\u001b[0;34m\u001b[0m\u001b[0m\n\u001b[1;32m     87\u001b[0m     \u001b[0;32mif\u001b[0m \u001b[0;32mnot\u001b[0m \u001b[0mops\u001b[0m\u001b[0;34m.\u001b[0m\u001b[0mis_auto_dtype_conversion_enabled\u001b[0m\u001b[0;34m(\u001b[0m\u001b[0;34m)\u001b[0m\u001b[0;34m:\u001b[0m\u001b[0;34m\u001b[0m\u001b[0;34m\u001b[0m\u001b[0m\n\u001b[0;32m---> 88\u001b[0;31m       \u001b[0;32mreturn\u001b[0m \u001b[0mop\u001b[0m\u001b[0;34m(\u001b[0m\u001b[0;34m*\u001b[0m\u001b[0margs\u001b[0m\u001b[0;34m,\u001b[0m \u001b[0;34m**\u001b[0m\u001b[0mkwargs\u001b[0m\u001b[0;34m)\u001b[0m\u001b[0;34m\u001b[0m\u001b[0;34m\u001b[0m\u001b[0m\n\u001b[0m\u001b[1;32m     89\u001b[0m     \u001b[0mbound_arguments\u001b[0m \u001b[0;34m=\u001b[0m \u001b[0msignature\u001b[0m\u001b[0;34m.\u001b[0m\u001b[0mbind\u001b[0m\u001b[0;34m(\u001b[0m\u001b[0;34m*\u001b[0m\u001b[0margs\u001b[0m\u001b[0;34m,\u001b[0m \u001b[0;34m**\u001b[0m\u001b[0mkwargs\u001b[0m\u001b[0;34m)\u001b[0m\u001b[0;34m\u001b[0m\u001b[0;34m\u001b[0m\u001b[0m\n\u001b[1;32m     90\u001b[0m     \u001b[0mbound_arguments\u001b[0m\u001b[0;34m.\u001b[0m\u001b[0mapply_defaults\u001b[0m\u001b[0;34m(\u001b[0m\u001b[0;34m)\u001b[0m\u001b[0;34m\u001b[0m\u001b[0;34m\u001b[0m\u001b[0m\n",
            "\u001b[0;32m/usr/local/lib/python3.10/dist-packages/tensorflow/python/util/traceback_utils.py\u001b[0m in \u001b[0;36merror_handler\u001b[0;34m(*args, **kwargs)\u001b[0m\n\u001b[1;32m    138\u001b[0m   \u001b[0;32mdef\u001b[0m \u001b[0merror_handler\u001b[0m\u001b[0;34m(\u001b[0m\u001b[0;34m*\u001b[0m\u001b[0margs\u001b[0m\u001b[0;34m,\u001b[0m \u001b[0;34m**\u001b[0m\u001b[0mkwargs\u001b[0m\u001b[0;34m)\u001b[0m\u001b[0;34m:\u001b[0m\u001b[0;34m\u001b[0m\u001b[0;34m\u001b[0m\u001b[0m\n\u001b[1;32m    139\u001b[0m     \u001b[0;32mtry\u001b[0m\u001b[0;34m:\u001b[0m\u001b[0;34m\u001b[0m\u001b[0;34m\u001b[0m\u001b[0m\n\u001b[0;32m--> 140\u001b[0;31m       \u001b[0;32mif\u001b[0m \u001b[0;32mnot\u001b[0m \u001b[0mis_traceback_filtering_enabled\u001b[0m\u001b[0;34m(\u001b[0m\u001b[0;34m)\u001b[0m\u001b[0;34m:\u001b[0m\u001b[0;34m\u001b[0m\u001b[0;34m\u001b[0m\u001b[0m\n\u001b[0m\u001b[1;32m    141\u001b[0m         \u001b[0;32mreturn\u001b[0m \u001b[0mfn\u001b[0m\u001b[0;34m(\u001b[0m\u001b[0;34m*\u001b[0m\u001b[0margs\u001b[0m\u001b[0;34m,\u001b[0m \u001b[0;34m**\u001b[0m\u001b[0mkwargs\u001b[0m\u001b[0;34m)\u001b[0m\u001b[0;34m\u001b[0m\u001b[0;34m\u001b[0m\u001b[0m\n\u001b[1;32m    142\u001b[0m     \u001b[0;32mexcept\u001b[0m \u001b[0mNameError\u001b[0m\u001b[0;34m:\u001b[0m\u001b[0;34m\u001b[0m\u001b[0;34m\u001b[0m\u001b[0m\n",
            "\u001b[0;32m/usr/local/lib/python3.10/dist-packages/tensorflow/python/util/traceback_utils.py\u001b[0m in \u001b[0;36mis_traceback_filtering_enabled\u001b[0;34m()\u001b[0m\n\u001b[1;32m     30\u001b[0m \u001b[0;34m\u001b[0m\u001b[0m\n\u001b[1;32m     31\u001b[0m \u001b[0;34m\u001b[0m\u001b[0m\n\u001b[0;32m---> 32\u001b[0;31m \u001b[0;34m@\u001b[0m\u001b[0mtf_export\u001b[0m\u001b[0;34m(\u001b[0m\u001b[0;34m'debugging.is_traceback_filtering_enabled'\u001b[0m\u001b[0;34m)\u001b[0m\u001b[0;34m\u001b[0m\u001b[0;34m\u001b[0m\u001b[0m\n\u001b[0m\u001b[1;32m     33\u001b[0m \u001b[0;32mdef\u001b[0m \u001b[0mis_traceback_filtering_enabled\u001b[0m\u001b[0;34m(\u001b[0m\u001b[0;34m)\u001b[0m\u001b[0;34m:\u001b[0m\u001b[0;34m\u001b[0m\u001b[0;34m\u001b[0m\u001b[0m\n\u001b[1;32m     34\u001b[0m   \"\"\"Check whether traceback filtering is currently enabled.\n",
            "\u001b[0;31mKeyboardInterrupt\u001b[0m: "
          ]
        }
      ]
    }
  ],
  "metadata": {
    "colab": {
      "provenance": [],
      "include_colab_link": true
    },
    "kernelspec": {
      "display_name": "Python 3",
      "name": "python3"
    },
    "language_info": {
      "codemirror_mode": {
        "name": "ipython",
        "version": 3
      },
      "file_extension": ".py",
      "mimetype": "text/x-python",
      "name": "python",
      "nbconvert_exporter": "python",
      "pygments_lexer": "ipython3",
      "version": "3.10.9"
    }
  },
  "nbformat": 4,
  "nbformat_minor": 0
}
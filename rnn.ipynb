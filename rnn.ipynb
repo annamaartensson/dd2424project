{
  "nbformat": 4,
  "nbformat_minor": 0,
  "metadata": {
    "colab": {
      "provenance": [],
      "authorship_tag": "ABX9TyPu5LBnZ4WizwdB/Qpgpdoy",
      "include_colab_link": true
    },
    "kernelspec": {
      "name": "python3",
      "display_name": "Python 3"
    },
    "language_info": {
      "name": "python"
    }
  },
  "cells": [
    {
      "cell_type": "markdown",
      "metadata": {
        "id": "view-in-github",
        "colab_type": "text"
      },
      "source": [
        "<a href=\"https://colab.research.google.com/github/annamaartensson/dd2424project/blob/issue%2F2/rnn.ipynb\" target=\"_parent\"><img src=\"https://colab.research.google.com/assets/colab-badge.svg\" alt=\"Open In Colab\"/></a>"
      ]
    },
    {
      "cell_type": "code",
      "source": [
        "import tensorflow as tf"
      ],
      "metadata": {
        "id": "cpTRhWbe5_oh"
      },
      "execution_count": 6,
      "outputs": []
    },
    {
      "cell_type": "code",
      "source": [
        "path_to_file = tf.keras.utils.get_file('prideandprejudice.txt', 'https://www.gutenberg.org/cache/epub/42671/pg42671.txt')\n",
        "text = open(path_to_file, 'rb').read().decode(encoding='utf-8')"
      ],
      "metadata": {
        "colab": {
          "base_uri": "https://localhost:8080/"
        },
        "id": "znWk0L0lUW0X",
        "outputId": "dcb76525-99db-4dd3-d557-98a551c19891"
      },
      "execution_count": 76,
      "outputs": [
        {
          "output_type": "stream",
          "name": "stdout",
          "text": [
            "Downloading data from https://www.gutenberg.org/cache/epub/42671/pg42671.txt\n",
            "725256/725256 [==============================] - 0s 0us/step\n"
          ]
        }
      ]
    },
    {
      "cell_type": "code",
      "source": [
        "vocabulary = sorted(set(text))\n",
        "ids_to_chars =\n",
        "chars_to_ids ="
      ],
      "metadata": {
        "id": "PkI1dzQAUwgl"
      },
      "execution_count": null,
      "outputs": []
    },
    {
      "cell_type": "code",
      "execution_count": 74,
      "metadata": {
        "id": "sE6UiXiA41_c"
      },
      "outputs": [],
      "source": [
        "class RNN:\n",
        "\n",
        "  class Grads:\n",
        "\n",
        "    def __init__(self, m, K):\n",
        "      self.b = tf.Variable(tf.zeros_initializer()(shape = (K)))\n",
        "      self.c = tf.Variable(tf.zeros_initializer()(shape = (K)))\n",
        "      self.U = tf.Variable(tf.zeros_initializer()(shape = (m, K)))\n",
        "      self.W = tf.Variable(tf.zeros_initializer()(shape = (m, m)))\n",
        "      self.V = tf.Variable(tf.zeros_initializer()(shape = (K, m)))\n",
        "\n",
        "    def compute(self):\n",
        "      pass\n",
        "\n",
        "  def __init__(self, seq_length, m, K, sig):\n",
        "    self.seq_length = seq_length\n",
        "    self.m = m\n",
        "    self.K = K\n",
        "    self.b = tf.Variable(tf.zeros_initializer()(shape = (m)))\n",
        "    self.c = tf.Variable(tf.zeros_initializer()(shape = (K)))\n",
        "    self.U = tf.Variable(tf.random_normal_initializer(mean=0.0, stddev=sig)(shape = (m, K)))\n",
        "    self.W = tf.Variable(tf.random_normal_initializer(mean=0.0, stddev=sig)(shape = (m, m)))\n",
        "    self.V = tf.Variable(tf.random_normal_initializer(mean=0.0, stddev=sig)(shape = (K, m)))\n",
        "    self.h0 = tf.Variable(tf.zeros_initializer()(shape = (m)))\n",
        "\n",
        "  def forwardPass(self, X):\n",
        "    P = tf.Variable(tf.zeros_initializer()(shape = (self.K, self.seq_length)))\n",
        "    H = tf.Variable(tf.zeros_initializer()(shape = (self.m, self.seq_length+1)))\n",
        "    A = tf.Variable(tf.zeros_initializer()(shape = (self.m, self.seq_length)))\n",
        "    H[:,0].assign(self.h0)\n",
        "    for t in range(self.seq_length):\n",
        "      A[:,t].assign(tf.tensordot(self.W, H[:,t], 1) + tf.tensordot(self.U, X[:,t], 1) + self.b)\n",
        "      H[:,t+1].assign(tf.math.tanh(A[:,t]))\n",
        "      P[:,t].assign(tf.raw_ops.Softmax(logits = (tf.tensordot(self.V, H[:,t+1], 1) + self.c)))\n",
        "    return P, H, A\n",
        "\n",
        "  def backwardPass(self, X, Y, P, H, A):\n",
        "    grads = RNN.Grads(self.m, self.K)\n",
        "\n",
        "    return grads\n",
        "\n",
        "  def loss(self, X, Y, P):\n",
        "    pass\n",
        "\n",
        "  def train(self, eta, steps):\n",
        "    #TODO: replace with real data/batches\n",
        "    X = tf.Variable(tf.zeros_initializer()(shape = (80, 25)))\n",
        "    Y = tf.Variable(tf.zeros_initializer()(shape = (80, 25)))\n",
        "    P, H, A = self.forwardPass(X)\n",
        "    grads = self.backwardPass(X, Y, P, H, A)\n",
        ""
      ]
    },
    {
      "cell_type": "code",
      "source": [
        "rnn = RNN(25, 100, 80, 0.01)\n",
        "x = tf.Variable(tf.zeros_initializer()(shape = (80, 25)))\n",
        "rnn.forwardPass(x)"
      ],
      "metadata": {
        "colab": {
          "base_uri": "https://localhost:8080/"
        },
        "id": "6HN68JHo5Dlx",
        "outputId": "8736f4b7-9bc8-41d7-859a-98d7f6ecb37c"
      },
      "execution_count": 75,
      "outputs": [
        {
          "output_type": "execute_result",
          "data": {
            "text/plain": [
              "(<tf.Variable 'Variable:0' shape=(80, 25) dtype=float32, numpy=\n",
              " array([[0.0125, 0.0125, 0.0125, ..., 0.0125, 0.0125, 0.0125],\n",
              "        [0.0125, 0.0125, 0.0125, ..., 0.0125, 0.0125, 0.0125],\n",
              "        [0.0125, 0.0125, 0.0125, ..., 0.0125, 0.0125, 0.0125],\n",
              "        ...,\n",
              "        [0.0125, 0.0125, 0.0125, ..., 0.0125, 0.0125, 0.0125],\n",
              "        [0.0125, 0.0125, 0.0125, ..., 0.0125, 0.0125, 0.0125],\n",
              "        [0.0125, 0.0125, 0.0125, ..., 0.0125, 0.0125, 0.0125]],\n",
              "       dtype=float32)>,\n",
              " <tf.Variable 'Variable:0' shape=(100, 26) dtype=float32, numpy=\n",
              " array([[0., 0., 0., ..., 0., 0., 0.],\n",
              "        [0., 0., 0., ..., 0., 0., 0.],\n",
              "        [0., 0., 0., ..., 0., 0., 0.],\n",
              "        ...,\n",
              "        [0., 0., 0., ..., 0., 0., 0.],\n",
              "        [0., 0., 0., ..., 0., 0., 0.],\n",
              "        [0., 0., 0., ..., 0., 0., 0.]], dtype=float32)>,\n",
              " <tf.Variable 'Variable:0' shape=(100, 25) dtype=float32, numpy=\n",
              " array([[0., 0., 0., ..., 0., 0., 0.],\n",
              "        [0., 0., 0., ..., 0., 0., 0.],\n",
              "        [0., 0., 0., ..., 0., 0., 0.],\n",
              "        ...,\n",
              "        [0., 0., 0., ..., 0., 0., 0.],\n",
              "        [0., 0., 0., ..., 0., 0., 0.],\n",
              "        [0., 0., 0., ..., 0., 0., 0.]], dtype=float32)>)"
            ]
          },
          "metadata": {},
          "execution_count": 75
        }
      ]
    }
  ]
}
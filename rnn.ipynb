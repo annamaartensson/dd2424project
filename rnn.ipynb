{
  "nbformat": 4,
  "nbformat_minor": 0,
  "metadata": {
    "colab": {
      "provenance": [],
      "authorship_tag": "ABX9TyOO77d0lbESmJ+sJGwaUnU4",
      "include_colab_link": true
    },
    "kernelspec": {
      "name": "python3",
      "display_name": "Python 3"
    },
    "language_info": {
      "name": "python"
    }
  },
  "cells": [
    {
      "cell_type": "markdown",
      "metadata": {
        "id": "view-in-github",
        "colab_type": "text"
      },
      "source": [
        "<a href=\"https://colab.research.google.com/github/annamaartensson/dd2424project/blob/issue%2F2/rnn.ipynb\" target=\"_parent\"><img src=\"https://colab.research.google.com/assets/colab-badge.svg\" alt=\"Open In Colab\"/></a>"
      ]
    },
    {
      "cell_type": "code",
      "source": [
        "import tensorflow as tf"
      ],
      "metadata": {
        "id": "cpTRhWbe5_oh"
      },
      "execution_count": 6,
      "outputs": []
    },
    {
      "cell_type": "code",
      "execution_count": 148,
      "metadata": {
        "id": "sE6UiXiA41_c"
      },
      "outputs": [],
      "source": [
        "class RNN:\n",
        "\n",
        "  class Grads:\n",
        "\n",
        "    def __init__(self, m, K):\n",
        "      self.b = tf.Variable(tf.zeros_initializer()(shape = (K)))\n",
        "      self.c = tf.Variable(tf.zeros_initializer()(shape = (K)))\n",
        "      self.U = tf.Variable(tf.zeros_initializer()(shape = (m, K)))\n",
        "      self.W = tf.Variable(tf.zeros_initializer()(shape = (m, m)))\n",
        "      self.V = tf.Variable(tf.zeros_initializer()(shape = (K, m)))\n",
        "\n",
        "    def compute(self):\n",
        "      pass\n",
        "\n",
        "  def __init__(self, data, seq_length, m, K, sig):\n",
        "    self.data = data\n",
        "    self.seq_length = seq_length\n",
        "    self.m = m\n",
        "    self.K = K\n",
        "    self.b = tf.Variable(tf.zeros_initializer()(shape = (m)))\n",
        "    self.c = tf.Variable(tf.zeros_initializer()(shape = (K)))\n",
        "    self.U = tf.Variable(tf.random_normal_initializer(mean=0.0, stddev=sig)(shape = (m, K)))\n",
        "    self.W = tf.Variable(tf.random_normal_initializer(mean=0.0, stddev=sig)(shape = (m, m)))\n",
        "    self.V = tf.Variable(tf.random_normal_initializer(mean=0.0, stddev=sig)(shape = (K, m)))\n",
        "    self.hprev = tf.Variable(tf.zeros_initializer()(shape = (m)))\n",
        "\n",
        "  def forwardPass(self, X):\n",
        "    P = tf.Variable(tf.zeros_initializer()(shape = (self.K, self.seq_length)))\n",
        "    H = tf.Variable(tf.zeros_initializer()(shape = (self.m, self.seq_length+1)))\n",
        "    A = tf.Variable(tf.zeros_initializer()(shape = (self.m, self.seq_length)))\n",
        "    H[:,0].assign(self.hprev)\n",
        "    for t in range(self.seq_length):\n",
        "      A[:,t].assign(tf.tensordot(self.W, H[:,t], 1) + tf.tensordot(self.U, X[:,t], 1) + self.b)\n",
        "      H[:,t+1].assign(tf.math.tanh(A[:,t]))\n",
        "      P[:,t].assign(tf.nn.softmax(tf.tensordot(self.V, H[:,t+1], 1) + self.c))\n",
        "    return P, H, A\n",
        "\n",
        "  def backwardPass(self, X, Y, P, H, A):\n",
        "    grads = RNN.Grads(self.m, self.K)\n",
        "\n",
        "    return grads\n",
        "\n",
        "  def loss(self, Y, P):\n",
        "    L = 0\n",
        "    for t in range(self.seq_length):\n",
        "        L -= tf.tensordot(Y[:,t], tf.math.log(P[:,t]), 1)\n",
        "    return L\n",
        "\n",
        "  def update(self, eta, grads):\n",
        "    self.b.assign(self.b+eta*grads.b)\n",
        "    self.c.assign(self.c+eta*grads.c)\n",
        "    self.U.assign(self.U+eta*grads.U)\n",
        "    self.W.assign(self.W+eta*grads.W)\n",
        "    self.V.assign(self.V+eta*grads.V)\n",
        "\n",
        "  def train(self, eta, steps):\n",
        "    e = 0\n",
        "    for iter in range(steps):\n",
        "      X = self.data[:,e:e+self.seq_length]\n",
        "      Y = self.data[:,e+1:e+self.seq_length+2]\n",
        "      P, H, A = self.forwardPass(X)\n",
        "      L = self.loss(Y, P)\n",
        "      grads = self.backwardPass(X, Y, P, H, A)\n",
        "      self.update(eta, grads)\n",
        "      e = e+1\n",
        "      #update hprev\n",
        "\n",
        ""
      ]
    },
    {
      "cell_type": "code",
      "source": [
        "path_to_file = tf.keras.utils.get_file('prideandprejudice.txt', 'https://www.gutenberg.org/cache/epub/42671/pg42671.txt')\n",
        "text = list(open(path_to_file, 'rb').read().decode(encoding='utf-8'))"
      ],
      "metadata": {
        "id": "znWk0L0lUW0X"
      },
      "execution_count": 142,
      "outputs": []
    },
    {
      "cell_type": "code",
      "source": [
        "vocabulary = sorted(set(text))\n",
        "char_to_ind = tf.keras.layers.StringLookup(vocabulary = list(vocabulary), mask_token = None)\n",
        "ind_to_char = tf.keras.layers.StringLookup(vocabulary = char_to_ind.get_vocabulary(), invert = True, mask_token = None)"
      ],
      "metadata": {
        "id": "PkI1dzQAUwgl"
      },
      "execution_count": 143,
      "outputs": []
    },
    {
      "cell_type": "code",
      "source": [
        "seq_length = 100\n",
        "m = 100\n",
        "K = len(vocabulary)\n",
        "sig = 0.01\n",
        "data = tf.transpose(tf.one_hot(char_to_ind(text), K))"
      ],
      "metadata": {
        "id": "LemQgxO8lUR-"
      },
      "execution_count": 144,
      "outputs": []
    },
    {
      "cell_type": "code",
      "source": [
        "rnn = RNN(data, seq_length, m, K, sig)\n",
        "X = data[:,0:seq_length]\n",
        "Y = data[:,1:seq_length+1]\n",
        "P, H, A = rnn.forwardPass(X)\n",
        "print(rnn.loss(Y, P))"
      ],
      "metadata": {
        "id": "BHGj2DtRl1iB"
      },
      "execution_count": 149,
      "outputs": []
    }
  ]
}